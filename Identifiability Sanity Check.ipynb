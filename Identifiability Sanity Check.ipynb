{
 "cells": [
  {
   "cell_type": "markdown",
   "id": "af288c02",
   "metadata": {},
   "source": [
    "# Sampling From Line Graph Distribution"
   ]
  },
  {
   "cell_type": "code",
   "execution_count": 2,
   "id": "492a30fd",
   "metadata": {},
   "outputs": [],
   "source": [
    "import numpy as np\n",
    "import torch\n",
    "import math"
   ]
  },
  {
   "cell_type": "code",
   "execution_count": 3,
   "id": "340ecbb3",
   "metadata": {},
   "outputs": [],
   "source": [
    "#arbitrary non-linear latent model function\n",
    "def f(x):\n",
    "    \n",
    "    return x**3 - 2*x**2 + 1"
   ]
  },
  {
   "cell_type": "code",
   "execution_count": 4,
   "id": "d353b10c",
   "metadata": {},
   "outputs": [],
   "source": [
    "def sample_full_rank_matrix(n=3, lower=-10, upper=10):\n",
    "    while True:\n",
    "        matrix = torch.FloatTensor(n, n).uniform_(lower, upper)\n",
    "        if torch.det(matrix).item() != 0:\n",
    "            return matrix\n",
    "        \n",
    "# def sample_full_rank_matrix(num_latent=3, num_observed=3, lower=-10, upper=10):\n",
    "#     rank = min(num_latent, num_observed)\n",
    "#     matrix = torch.zeros((num_observed, num_latent))\n",
    "#     for i in range(rank):\n",
    "#         random_vector = torch.rand(num_latent if num_observed >= num_latent else num_observed) * (upper - lower) + lower\n",
    "#         if num_observed >= num_latent:\n",
    "#             matrix[i, :] = random_vector\n",
    "#         else:\n",
    "#             matrix[:, i] = random_vector\n",
    "    \n",
    "#     # If num_observed < num_latent, we need to ensure the columns are linearly independent\n",
    "#     if num_observed < num_latent:\n",
    "#         # Perform QR decomposition to orthogonalize the columns\n",
    "#         q, r = torch.linalg.qr(matrix)\n",
    "#         # Use Q (which has orthogonal columns) and scale it to the range\n",
    "#         scale_factor = (upper - lower) / 2.0\n",
    "#         matrix = q[:, :num_latent] * scale_factor + scale_factor + lower\n",
    "\n",
    "#     return matrix"
   ]
  },
  {
   "cell_type": "code",
   "execution_count": 5,
   "id": "0acff71e",
   "metadata": {},
   "outputs": [],
   "source": [
    "def sample_full_rank_matrix_sparse(n=3, lower=-10, upper=10):\n",
    "    matrix = torch.FloatTensor(n, n).uniform_(lower, upper)\n",
    "    # Set the diagonal elements to random values to ensure full rank\n",
    "    diag = torch.FloatTensor(n).uniform_(lower, upper)\n",
    "    matrix.fill_diagonal_(0)  # Set diagonal to zero before filling with random values\n",
    "    matrix += torch.diag(diag)\n",
    "    \n",
    "    # Get the indices of the off-diagonal elements\n",
    "    triu_indices = torch.triu_indices(n, n, offset=1)\n",
    "    tril_indices = torch.tril_indices(n, n, offset=-1)\n",
    "    off_diagonal_indices = torch.cat((triu_indices, tril_indices), dim=1)\n",
    "    \n",
    "    # Randomly select half of the off-diagonal elements to set to zero\n",
    "    num_off_diagonal_elements = off_diagonal_indices.shape[1]\n",
    "#     num_elements_to_zero = num_zero\n",
    "    num_elements_to_zero = torch.randint(0, n**2-n+1, (1,)).item()\n",
    "#     print(num_elements_to_zero)\n",
    "    \n",
    "    # Generate random indices to zero out without replacement\n",
    "    indices_to_zero = torch.randperm(num_off_diagonal_elements)[:num_elements_to_zero]\n",
    "    \n",
    "    # Zero out the selected off-diagonal elements\n",
    "    matrix[off_diagonal_indices[0, indices_to_zero], off_diagonal_indices[1, indices_to_zero]] = 0.0\n",
    "    \n",
    "    return matrix"
   ]
  },
  {
   "cell_type": "code",
   "execution_count": 6,
   "id": "2babcc7d",
   "metadata": {},
   "outputs": [],
   "source": [
    "def sample(G, f, variances):\n",
    "    noise = [torch.normal(0, torch.sqrt(variance)).requires_grad_() for variance in variances]\n",
    "    U = [noise[0]]\n",
    "    for i in range(1, len(variances)):\n",
    "        U.append(f(U[i-1]) + noise[i])\n",
    "    U_tensor = torch.stack(U)  # Convert list of tensors to a tensor\n",
    "    X = torch.matmul(G, U_tensor.unsqueeze(1)).squeeze(1)  # Matrix multiplication and remove extra dimension\n",
    "    return U_tensor, X"
   ]
  },
  {
   "cell_type": "code",
   "execution_count": 7,
   "id": "c1b6977d",
   "metadata": {},
   "outputs": [],
   "source": [
    "def sample_n(G, f, variances, n):\n",
    "    U_list, X_list = [], []\n",
    "    for _ in range(n):\n",
    "        U, X = sample(G, f, variances)\n",
    "        U_list.append(U)\n",
    "        X_list.append(X)\n",
    "    U_stacked = torch.stack(U_list)\n",
    "    X_stacked = torch.stack(X_list)\n",
    "    return U_stacked, X_stacked"
   ]
  },
  {
   "cell_type": "code",
   "execution_count": 8,
   "id": "63ca11df",
   "metadata": {},
   "outputs": [
    {
     "data": {
      "text/plain": [
       "(tensor([-2.6052e+00, -3.0404e+01, -2.9952e+04, -2.6873e+13],\n",
       "        grad_fn=<StackBackward0>),\n",
       " tensor([ 1.3709e+14,  2.9185e+13, -8.6944e+13, -7.8140e+12],\n",
       "        grad_fn=<SqueezeBackward1>))"
      ]
     },
     "execution_count": 8,
     "metadata": {},
     "output_type": "execute_result"
    }
   ],
   "source": [
    "variances = torch.rand(4)*5\n",
    "G = sample_full_rank_matrix(4)\n",
    "G_hat = sample_full_rank_matrix()\n",
    "U, X = sample(G, f, variances)\n",
    "U,X"
   ]
  },
  {
   "cell_type": "code",
   "execution_count": 9,
   "id": "3db87ed1",
   "metadata": {},
   "outputs": [],
   "source": [
    "# for _ in range(50):\n",
    "#     X = sample_n(G,f,variances,2000)\n",
    "#     X = torch.tensor(X)\n",
    "#     print(compute_top_order(X, eta_G=0.001, eta_H=0.001, normalize_var=False, dispersion=\"var\"))"
   ]
  },
  {
   "cell_type": "code",
   "execution_count": 10,
   "id": "284b5e51",
   "metadata": {},
   "outputs": [
    {
     "data": {
      "text/plain": [
       "torch.Size([100, 4])"
      ]
     },
     "execution_count": 10,
     "metadata": {},
     "output_type": "execute_result"
    }
   ],
   "source": [
    "sample_n(G, f, variances, 100)[0].shape"
   ]
  },
  {
   "cell_type": "markdown",
   "id": "43e53b0a",
   "metadata": {},
   "source": [
    "# Calculating Jacobian"
   ]
  },
  {
   "cell_type": "code",
   "execution_count": 25,
   "id": "ea4f8e53",
   "metadata": {},
   "outputs": [],
   "source": [
    "def gaussian_pdf(x, mu, var):\n",
    "#     print(x,mu,var)\n",
    "    return (1/torch.sqrt(2*torch.pi*var))*torch.exp(-0.5*((x-mu)**2/var))"
   ]
  },
  {
   "cell_type": "code",
   "execution_count": 26,
   "id": "30cd0421",
   "metadata": {},
   "outputs": [],
   "source": [
    "def p_u(U, variances):\n",
    "    # Calculate the product of Gaussian PDFs\n",
    "    prod = gaussian_pdf(U[0], torch.tensor(0.0), variances[0])\n",
    "    for i in range(1, len(U)):\n",
    "        prod *= gaussian_pdf(U[i], f(U[i-1]), variances[i])\n",
    "    return prod"
   ]
  },
  {
   "cell_type": "code",
   "execution_count": 27,
   "id": "e743375d",
   "metadata": {},
   "outputs": [],
   "source": [
    "def log_pu(U, variances):\n",
    "    return torch.log(p_u(U, variances))"
   ]
  },
  {
   "cell_type": "code",
   "execution_count": 28,
   "id": "be39dd39",
   "metadata": {},
   "outputs": [],
   "source": [
    "def score_u(U, variances):\n",
    "    return torch.autograd.grad(outputs=log_pu(U, variances), inputs=U, create_graph=True)[0]"
   ]
  },
  {
   "cell_type": "code",
   "execution_count": 29,
   "id": "824b3c6b",
   "metadata": {},
   "outputs": [],
   "source": [
    "def jacobian_score_u(U, variances):\n",
    "    grad_log_pu = score_u(U, variances)\n",
    "    hessian = torch.zeros(U.size(0), U.size(0))\n",
    "    for i in range(U.size(0)):\n",
    "        grad_grad_log_pu = torch.autograd.grad(outputs=grad_log_pu[i], inputs=U, create_graph=True)\n",
    "        hessian[i] = grad_grad_log_pu[0]\n",
    "    return hessian"
   ]
  },
  {
   "cell_type": "code",
   "execution_count": 30,
   "id": "8b5b6af6",
   "metadata": {},
   "outputs": [],
   "source": [
    "def estimate_jacobian_score_u(G, G_hat, X, U, variances):\n",
    "    beta = torch.matmul(torch.inverse(G), G_hat)\n",
    "    return torch.matmul(torch.matmul(beta, jacobian_score_u(U, variances)), beta.T)"
   ]
  },
  {
   "cell_type": "code",
   "execution_count": 31,
   "id": "46105364",
   "metadata": {},
   "outputs": [],
   "source": [
    "def diag(mat):\n",
    "    return torch.diag(mat)"
   ]
  },
  {
   "cell_type": "code",
   "execution_count": 32,
   "id": "e4aea61a",
   "metadata": {},
   "outputs": [],
   "source": [
    "# Not needed ---------------------"
   ]
  },
  {
   "cell_type": "code",
   "execution_count": 33,
   "id": "a8803217",
   "metadata": {},
   "outputs": [],
   "source": [
    "def p_x(X):\n",
    "    return p_u(torch.matmul(torch.inverse(G), X.unsqueeze(1)))*torch.abs(torch.det(torch.inverse(G)))"
   ]
  },
  {
   "cell_type": "code",
   "execution_count": 34,
   "id": "8f8920d7",
   "metadata": {},
   "outputs": [],
   "source": [
    "def log_px(X):\n",
    "    return torch.log(p_x(X))"
   ]
  },
  {
   "cell_type": "code",
   "execution_count": 35,
   "id": "c3cf798d",
   "metadata": {},
   "outputs": [],
   "source": [
    "def score_x(X):\n",
    "    return torch.autograd.grad(outputs=log_px(X), inputs=X, create_graph=True)[0]"
   ]
  },
  {
   "cell_type": "code",
   "execution_count": 36,
   "id": "d31a9062",
   "metadata": {},
   "outputs": [],
   "source": [
    "def jacobian_score_x(X):\n",
    "    grad_log_px = score_x(X)\n",
    "    hessian = torch.zeros(X.size(0), X.size(0))\n",
    "    for i in range(X.size(0)):\n",
    "        grad_grad_log_px = torch.autograd.grad(outputs=grad_log_px[i], inputs=X, create_graph=True)\n",
    "        hessian[i] = grad_grad_log_px[0]\n",
    "    return hessian\n",
    "    "
   ]
  },
  {
   "cell_type": "code",
   "execution_count": null,
   "id": "24626ac1",
   "metadata": {},
   "outputs": [],
   "source": []
  },
  {
   "cell_type": "code",
   "execution_count": 37,
   "id": "d1215bd7",
   "metadata": {},
   "outputs": [],
   "source": [
    "# ---------------------"
   ]
  },
  {
   "cell_type": "code",
   "execution_count": 38,
   "id": "deecc871",
   "metadata": {},
   "outputs": [
    {
     "data": {
      "text/plain": [
       "(tensor([0.6207, 0.6440, 1.4228], grad_fn=<StackBackward0>),\n",
       " tensor([-1.5762, 16.5409,  9.4130], grad_fn=<SqueezeBackward1>))"
      ]
     },
     "execution_count": 38,
     "metadata": {},
     "output_type": "execute_result"
    }
   ],
   "source": [
    "variances = torch.rand(3)*5\n",
    "G = sample_full_rank_matrix()\n",
    "G_hat = sample_full_rank_matrix()\n",
    "U, X = sample(G, f, variances)\n",
    "U,X"
   ]
  },
  {
   "cell_type": "code",
   "execution_count": 39,
   "id": "31738887",
   "metadata": {},
   "outputs": [
    {
     "data": {
      "text/plain": [
       "tensor([[-3.1885e+00, -2.1120e+00,  0.0000e+00],\n",
       "        [-2.1120e+00, -2.8368e+00, -8.6922e-01],\n",
       "        [ 2.7501e-08, -8.6922e-01, -6.5267e-01]], grad_fn=<CopySlices>)"
      ]
     },
     "execution_count": 39,
     "metadata": {},
     "output_type": "execute_result"
    }
   ],
   "source": [
    "jacobian_score_u(U, variances)"
   ]
  },
  {
   "cell_type": "code",
   "execution_count": 40,
   "id": "ee2ecafa",
   "metadata": {},
   "outputs": [
    {
     "ename": "TypeError",
     "evalue": "p_u() missing 1 required positional argument: 'variances'",
     "output_type": "error",
     "traceback": [
      "\u001b[0;31m---------------------------------------------------------------------------\u001b[0m",
      "\u001b[0;31mTypeError\u001b[0m                                 Traceback (most recent call last)",
      "Cell \u001b[0;32mIn[40], line 1\u001b[0m\n\u001b[0;32m----> 1\u001b[0m \u001b[43mjacobian_score_x\u001b[49m\u001b[43m(\u001b[49m\u001b[43mX\u001b[49m\u001b[43m)\u001b[49m\n",
      "Cell \u001b[0;32mIn[36], line 2\u001b[0m, in \u001b[0;36mjacobian_score_x\u001b[0;34m(X)\u001b[0m\n\u001b[1;32m      1\u001b[0m \u001b[38;5;28;01mdef\u001b[39;00m \u001b[38;5;21mjacobian_score_x\u001b[39m(X):\n\u001b[0;32m----> 2\u001b[0m     grad_log_px \u001b[38;5;241m=\u001b[39m \u001b[43mscore_x\u001b[49m\u001b[43m(\u001b[49m\u001b[43mX\u001b[49m\u001b[43m)\u001b[49m\n\u001b[1;32m      3\u001b[0m     hessian \u001b[38;5;241m=\u001b[39m torch\u001b[38;5;241m.\u001b[39mzeros(X\u001b[38;5;241m.\u001b[39msize(\u001b[38;5;241m0\u001b[39m), X\u001b[38;5;241m.\u001b[39msize(\u001b[38;5;241m0\u001b[39m))\n\u001b[1;32m      4\u001b[0m     \u001b[38;5;28;01mfor\u001b[39;00m i \u001b[38;5;129;01min\u001b[39;00m \u001b[38;5;28mrange\u001b[39m(X\u001b[38;5;241m.\u001b[39msize(\u001b[38;5;241m0\u001b[39m)):\n",
      "Cell \u001b[0;32mIn[35], line 2\u001b[0m, in \u001b[0;36mscore_x\u001b[0;34m(X)\u001b[0m\n\u001b[1;32m      1\u001b[0m \u001b[38;5;28;01mdef\u001b[39;00m \u001b[38;5;21mscore_x\u001b[39m(X):\n\u001b[0;32m----> 2\u001b[0m     \u001b[38;5;28;01mreturn\u001b[39;00m torch\u001b[38;5;241m.\u001b[39mautograd\u001b[38;5;241m.\u001b[39mgrad(outputs\u001b[38;5;241m=\u001b[39m\u001b[43mlog_px\u001b[49m\u001b[43m(\u001b[49m\u001b[43mX\u001b[49m\u001b[43m)\u001b[49m, inputs\u001b[38;5;241m=\u001b[39mX, create_graph\u001b[38;5;241m=\u001b[39m\u001b[38;5;28;01mTrue\u001b[39;00m)[\u001b[38;5;241m0\u001b[39m]\n",
      "Cell \u001b[0;32mIn[34], line 2\u001b[0m, in \u001b[0;36mlog_px\u001b[0;34m(X)\u001b[0m\n\u001b[1;32m      1\u001b[0m \u001b[38;5;28;01mdef\u001b[39;00m \u001b[38;5;21mlog_px\u001b[39m(X):\n\u001b[0;32m----> 2\u001b[0m     \u001b[38;5;28;01mreturn\u001b[39;00m torch\u001b[38;5;241m.\u001b[39mlog(\u001b[43mp_x\u001b[49m\u001b[43m(\u001b[49m\u001b[43mX\u001b[49m\u001b[43m)\u001b[49m)\n",
      "Cell \u001b[0;32mIn[33], line 2\u001b[0m, in \u001b[0;36mp_x\u001b[0;34m(X)\u001b[0m\n\u001b[1;32m      1\u001b[0m \u001b[38;5;28;01mdef\u001b[39;00m \u001b[38;5;21mp_x\u001b[39m(X):\n\u001b[0;32m----> 2\u001b[0m     \u001b[38;5;28;01mreturn\u001b[39;00m \u001b[43mp_u\u001b[49m\u001b[43m(\u001b[49m\u001b[43mtorch\u001b[49m\u001b[38;5;241;43m.\u001b[39;49m\u001b[43mmatmul\u001b[49m\u001b[43m(\u001b[49m\u001b[43mtorch\u001b[49m\u001b[38;5;241;43m.\u001b[39;49m\u001b[43minverse\u001b[49m\u001b[43m(\u001b[49m\u001b[43mG\u001b[49m\u001b[43m)\u001b[49m\u001b[43m,\u001b[49m\u001b[43m \u001b[49m\u001b[43mX\u001b[49m\u001b[38;5;241;43m.\u001b[39;49m\u001b[43munsqueeze\u001b[49m\u001b[43m(\u001b[49m\u001b[38;5;241;43m1\u001b[39;49m\u001b[43m)\u001b[49m\u001b[43m)\u001b[49m\u001b[43m)\u001b[49m\u001b[38;5;241m*\u001b[39mtorch\u001b[38;5;241m.\u001b[39mabs(torch\u001b[38;5;241m.\u001b[39mdet(torch\u001b[38;5;241m.\u001b[39minverse(G)))\n",
      "\u001b[0;31mTypeError\u001b[0m: p_u() missing 1 required positional argument: 'variances'"
     ]
    }
   ],
   "source": [
    "jacobian_score_x(X)"
   ]
  },
  {
   "cell_type": "code",
   "execution_count": null,
   "id": "ea950ec2",
   "metadata": {},
   "outputs": [],
   "source": []
  },
  {
   "cell_type": "code",
   "execution_count": null,
   "id": "64d557fb",
   "metadata": {},
   "outputs": [
    {
     "data": {
      "text/plain": [
       "tensor([-2.4205e+02, -1.1429e+07, -5.4575e+00], grad_fn=<DiagBackward0>)"
      ]
     },
     "execution_count": 966,
     "metadata": {},
     "output_type": "execute_result"
    }
   ],
   "source": [
    "diag(jacobian_score_u(U, variances))"
   ]
  },
  {
   "cell_type": "code",
   "execution_count": 25,
   "id": "4795a819",
   "metadata": {},
   "outputs": [
    {
     "ename": "NameError",
     "evalue": "name 'gaussian_pdf' is not defined",
     "output_type": "error",
     "traceback": [
      "\u001b[0;31m---------------------------------------------------------------------------\u001b[0m",
      "\u001b[0;31mNameError\u001b[0m                                 Traceback (most recent call last)",
      "\u001b[0;32m<ipython-input-25-65585fefd2d8>\u001b[0m in \u001b[0;36m<module>\u001b[0;34m\u001b[0m\n\u001b[0;32m----> 1\u001b[0;31m \u001b[0mestimate_jacobian_score_u\u001b[0m\u001b[0;34m(\u001b[0m\u001b[0mG\u001b[0m\u001b[0;34m,\u001b[0m \u001b[0mG_hat\u001b[0m\u001b[0;34m,\u001b[0m \u001b[0mX\u001b[0m\u001b[0;34m,\u001b[0m \u001b[0mU\u001b[0m\u001b[0;34m,\u001b[0m \u001b[0mvariances\u001b[0m\u001b[0;34m)\u001b[0m\u001b[0;34m\u001b[0m\u001b[0;34m\u001b[0m\u001b[0m\n\u001b[0m",
      "\u001b[0;32m<ipython-input-15-76951ac26aba>\u001b[0m in \u001b[0;36mestimate_jacobian_score_u\u001b[0;34m(G, G_hat, X, U, variances)\u001b[0m\n\u001b[1;32m      1\u001b[0m \u001b[0;32mdef\u001b[0m \u001b[0mestimate_jacobian_score_u\u001b[0m\u001b[0;34m(\u001b[0m\u001b[0mG\u001b[0m\u001b[0;34m,\u001b[0m \u001b[0mG_hat\u001b[0m\u001b[0;34m,\u001b[0m \u001b[0mX\u001b[0m\u001b[0;34m,\u001b[0m \u001b[0mU\u001b[0m\u001b[0;34m,\u001b[0m \u001b[0mvariances\u001b[0m\u001b[0;34m)\u001b[0m\u001b[0;34m:\u001b[0m\u001b[0;34m\u001b[0m\u001b[0;34m\u001b[0m\u001b[0m\n\u001b[1;32m      2\u001b[0m     \u001b[0mbeta\u001b[0m \u001b[0;34m=\u001b[0m \u001b[0mtorch\u001b[0m\u001b[0;34m.\u001b[0m\u001b[0mmatmul\u001b[0m\u001b[0;34m(\u001b[0m\u001b[0mtorch\u001b[0m\u001b[0;34m.\u001b[0m\u001b[0minverse\u001b[0m\u001b[0;34m(\u001b[0m\u001b[0mG\u001b[0m\u001b[0;34m)\u001b[0m\u001b[0;34m,\u001b[0m \u001b[0mG_hat\u001b[0m\u001b[0;34m)\u001b[0m\u001b[0;34m\u001b[0m\u001b[0;34m\u001b[0m\u001b[0m\n\u001b[0;32m----> 3\u001b[0;31m     \u001b[0;32mreturn\u001b[0m \u001b[0mtorch\u001b[0m\u001b[0;34m.\u001b[0m\u001b[0mmatmul\u001b[0m\u001b[0;34m(\u001b[0m\u001b[0mtorch\u001b[0m\u001b[0;34m.\u001b[0m\u001b[0mmatmul\u001b[0m\u001b[0;34m(\u001b[0m\u001b[0mbeta\u001b[0m\u001b[0;34m,\u001b[0m \u001b[0mjacobian_score_u\u001b[0m\u001b[0;34m(\u001b[0m\u001b[0mU\u001b[0m\u001b[0;34m,\u001b[0m \u001b[0mvariances\u001b[0m\u001b[0;34m)\u001b[0m\u001b[0;34m)\u001b[0m\u001b[0;34m,\u001b[0m \u001b[0mbeta\u001b[0m\u001b[0;34m.\u001b[0m\u001b[0mT\u001b[0m\u001b[0;34m)\u001b[0m\u001b[0;34m\u001b[0m\u001b[0;34m\u001b[0m\u001b[0m\n\u001b[0m",
      "\u001b[0;32m<ipython-input-14-f0562fd721ed>\u001b[0m in \u001b[0;36mjacobian_score_u\u001b[0;34m(U, variances)\u001b[0m\n\u001b[1;32m      1\u001b[0m \u001b[0;32mdef\u001b[0m \u001b[0mjacobian_score_u\u001b[0m\u001b[0;34m(\u001b[0m\u001b[0mU\u001b[0m\u001b[0;34m,\u001b[0m \u001b[0mvariances\u001b[0m\u001b[0;34m)\u001b[0m\u001b[0;34m:\u001b[0m\u001b[0;34m\u001b[0m\u001b[0;34m\u001b[0m\u001b[0m\n\u001b[0;32m----> 2\u001b[0;31m     \u001b[0mgrad_log_pu\u001b[0m \u001b[0;34m=\u001b[0m \u001b[0mscore_u\u001b[0m\u001b[0;34m(\u001b[0m\u001b[0mU\u001b[0m\u001b[0;34m,\u001b[0m \u001b[0mvariances\u001b[0m\u001b[0;34m)\u001b[0m\u001b[0;34m\u001b[0m\u001b[0;34m\u001b[0m\u001b[0m\n\u001b[0m\u001b[1;32m      3\u001b[0m     \u001b[0mhessian\u001b[0m \u001b[0;34m=\u001b[0m \u001b[0mtorch\u001b[0m\u001b[0;34m.\u001b[0m\u001b[0mzeros\u001b[0m\u001b[0;34m(\u001b[0m\u001b[0mU\u001b[0m\u001b[0;34m.\u001b[0m\u001b[0msize\u001b[0m\u001b[0;34m(\u001b[0m\u001b[0;36m0\u001b[0m\u001b[0;34m)\u001b[0m\u001b[0;34m,\u001b[0m \u001b[0mU\u001b[0m\u001b[0;34m.\u001b[0m\u001b[0msize\u001b[0m\u001b[0;34m(\u001b[0m\u001b[0;36m0\u001b[0m\u001b[0;34m)\u001b[0m\u001b[0;34m)\u001b[0m\u001b[0;34m\u001b[0m\u001b[0;34m\u001b[0m\u001b[0m\n\u001b[1;32m      4\u001b[0m     \u001b[0;32mfor\u001b[0m \u001b[0mi\u001b[0m \u001b[0;32min\u001b[0m \u001b[0mrange\u001b[0m\u001b[0;34m(\u001b[0m\u001b[0mU\u001b[0m\u001b[0;34m.\u001b[0m\u001b[0msize\u001b[0m\u001b[0;34m(\u001b[0m\u001b[0;36m0\u001b[0m\u001b[0;34m)\u001b[0m\u001b[0;34m)\u001b[0m\u001b[0;34m:\u001b[0m\u001b[0;34m\u001b[0m\u001b[0;34m\u001b[0m\u001b[0m\n\u001b[1;32m      5\u001b[0m         \u001b[0mgrad_grad_log_pu\u001b[0m \u001b[0;34m=\u001b[0m \u001b[0mtorch\u001b[0m\u001b[0;34m.\u001b[0m\u001b[0mautograd\u001b[0m\u001b[0;34m.\u001b[0m\u001b[0mgrad\u001b[0m\u001b[0;34m(\u001b[0m\u001b[0moutputs\u001b[0m\u001b[0;34m=\u001b[0m\u001b[0mgrad_log_pu\u001b[0m\u001b[0;34m[\u001b[0m\u001b[0mi\u001b[0m\u001b[0;34m]\u001b[0m\u001b[0;34m,\u001b[0m \u001b[0minputs\u001b[0m\u001b[0;34m=\u001b[0m\u001b[0mU\u001b[0m\u001b[0;34m,\u001b[0m \u001b[0mcreate_graph\u001b[0m\u001b[0;34m=\u001b[0m\u001b[0;32mTrue\u001b[0m\u001b[0;34m)\u001b[0m\u001b[0;34m\u001b[0m\u001b[0;34m\u001b[0m\u001b[0m\n",
      "\u001b[0;32m<ipython-input-13-eea35c8b8b33>\u001b[0m in \u001b[0;36mscore_u\u001b[0;34m(U, variances)\u001b[0m\n\u001b[1;32m      1\u001b[0m \u001b[0;32mdef\u001b[0m \u001b[0mscore_u\u001b[0m\u001b[0;34m(\u001b[0m\u001b[0mU\u001b[0m\u001b[0;34m,\u001b[0m \u001b[0mvariances\u001b[0m\u001b[0;34m)\u001b[0m\u001b[0;34m:\u001b[0m\u001b[0;34m\u001b[0m\u001b[0;34m\u001b[0m\u001b[0m\n\u001b[0;32m----> 2\u001b[0;31m     \u001b[0;32mreturn\u001b[0m \u001b[0mtorch\u001b[0m\u001b[0;34m.\u001b[0m\u001b[0mautograd\u001b[0m\u001b[0;34m.\u001b[0m\u001b[0mgrad\u001b[0m\u001b[0;34m(\u001b[0m\u001b[0moutputs\u001b[0m\u001b[0;34m=\u001b[0m\u001b[0mlog_pu\u001b[0m\u001b[0;34m(\u001b[0m\u001b[0mU\u001b[0m\u001b[0;34m,\u001b[0m \u001b[0mvariances\u001b[0m\u001b[0;34m)\u001b[0m\u001b[0;34m,\u001b[0m \u001b[0minputs\u001b[0m\u001b[0;34m=\u001b[0m\u001b[0mU\u001b[0m\u001b[0;34m,\u001b[0m \u001b[0mcreate_graph\u001b[0m\u001b[0;34m=\u001b[0m\u001b[0;32mTrue\u001b[0m\u001b[0;34m)\u001b[0m\u001b[0;34m[\u001b[0m\u001b[0;36m0\u001b[0m\u001b[0;34m]\u001b[0m\u001b[0;34m\u001b[0m\u001b[0;34m\u001b[0m\u001b[0m\n\u001b[0m",
      "\u001b[0;32m<ipython-input-12-8bfe937e14ca>\u001b[0m in \u001b[0;36mlog_pu\u001b[0;34m(U, variances)\u001b[0m\n\u001b[1;32m      1\u001b[0m \u001b[0;32mdef\u001b[0m \u001b[0mlog_pu\u001b[0m\u001b[0;34m(\u001b[0m\u001b[0mU\u001b[0m\u001b[0;34m,\u001b[0m \u001b[0mvariances\u001b[0m\u001b[0;34m)\u001b[0m\u001b[0;34m:\u001b[0m\u001b[0;34m\u001b[0m\u001b[0;34m\u001b[0m\u001b[0m\n\u001b[0;32m----> 2\u001b[0;31m     \u001b[0;32mreturn\u001b[0m \u001b[0mtorch\u001b[0m\u001b[0;34m.\u001b[0m\u001b[0mlog\u001b[0m\u001b[0;34m(\u001b[0m\u001b[0mp_u\u001b[0m\u001b[0;34m(\u001b[0m\u001b[0mU\u001b[0m\u001b[0;34m,\u001b[0m \u001b[0mvariances\u001b[0m\u001b[0;34m)\u001b[0m\u001b[0;34m)\u001b[0m\u001b[0;34m\u001b[0m\u001b[0;34m\u001b[0m\u001b[0m\n\u001b[0m",
      "\u001b[0;32m<ipython-input-11-e7c25991f1b2>\u001b[0m in \u001b[0;36mp_u\u001b[0;34m(U, variances)\u001b[0m\n\u001b[1;32m      1\u001b[0m \u001b[0;32mdef\u001b[0m \u001b[0mp_u\u001b[0m\u001b[0;34m(\u001b[0m\u001b[0mU\u001b[0m\u001b[0;34m,\u001b[0m \u001b[0mvariances\u001b[0m\u001b[0;34m)\u001b[0m\u001b[0;34m:\u001b[0m\u001b[0;34m\u001b[0m\u001b[0;34m\u001b[0m\u001b[0m\n\u001b[1;32m      2\u001b[0m     \u001b[0;31m# Calculate the product of Gaussian PDFs\u001b[0m\u001b[0;34m\u001b[0m\u001b[0;34m\u001b[0m\u001b[0;34m\u001b[0m\u001b[0m\n\u001b[0;32m----> 3\u001b[0;31m     \u001b[0mprod\u001b[0m \u001b[0;34m=\u001b[0m \u001b[0mgaussian_pdf\u001b[0m\u001b[0;34m(\u001b[0m\u001b[0mU\u001b[0m\u001b[0;34m[\u001b[0m\u001b[0;36m0\u001b[0m\u001b[0;34m]\u001b[0m\u001b[0;34m,\u001b[0m \u001b[0mtorch\u001b[0m\u001b[0;34m.\u001b[0m\u001b[0mtensor\u001b[0m\u001b[0;34m(\u001b[0m\u001b[0;36m0.0\u001b[0m\u001b[0;34m)\u001b[0m\u001b[0;34m,\u001b[0m \u001b[0mvariances\u001b[0m\u001b[0;34m[\u001b[0m\u001b[0;36m0\u001b[0m\u001b[0;34m]\u001b[0m\u001b[0;34m)\u001b[0m\u001b[0;34m\u001b[0m\u001b[0;34m\u001b[0m\u001b[0m\n\u001b[0m\u001b[1;32m      4\u001b[0m     \u001b[0;32mfor\u001b[0m \u001b[0mi\u001b[0m \u001b[0;32min\u001b[0m \u001b[0mrange\u001b[0m\u001b[0;34m(\u001b[0m\u001b[0;36m1\u001b[0m\u001b[0;34m,\u001b[0m \u001b[0mlen\u001b[0m\u001b[0;34m(\u001b[0m\u001b[0mU\u001b[0m\u001b[0;34m)\u001b[0m\u001b[0;34m)\u001b[0m\u001b[0;34m:\u001b[0m\u001b[0;34m\u001b[0m\u001b[0;34m\u001b[0m\u001b[0m\n\u001b[1;32m      5\u001b[0m         \u001b[0mprod\u001b[0m \u001b[0;34m*=\u001b[0m \u001b[0mguassian_pdf\u001b[0m\u001b[0;34m(\u001b[0m\u001b[0mU\u001b[0m\u001b[0;34m[\u001b[0m\u001b[0mi\u001b[0m\u001b[0;34m]\u001b[0m\u001b[0;34m,\u001b[0m \u001b[0mf\u001b[0m\u001b[0;34m(\u001b[0m\u001b[0mU\u001b[0m\u001b[0;34m[\u001b[0m\u001b[0mi\u001b[0m\u001b[0;34m-\u001b[0m\u001b[0;36m1\u001b[0m\u001b[0;34m]\u001b[0m\u001b[0;34m)\u001b[0m\u001b[0;34m,\u001b[0m \u001b[0mvariances\u001b[0m\u001b[0;34m[\u001b[0m\u001b[0mi\u001b[0m\u001b[0;34m]\u001b[0m\u001b[0;34m)\u001b[0m\u001b[0;34m\u001b[0m\u001b[0;34m\u001b[0m\u001b[0m\n",
      "\u001b[0;31mNameError\u001b[0m: name 'gaussian_pdf' is not defined"
     ]
    }
   ],
   "source": [
    "estimate_jacobian_score_u(G, G_hat, X, U, variances)"
   ]
  },
  {
   "cell_type": "code",
   "execution_count": 26,
   "id": "d2f6eb47",
   "metadata": {},
   "outputs": [
    {
     "ename": "NameError",
     "evalue": "name 'gaussian_pdf' is not defined",
     "output_type": "error",
     "traceback": [
      "\u001b[0;31m---------------------------------------------------------------------------\u001b[0m",
      "\u001b[0;31mNameError\u001b[0m                                 Traceback (most recent call last)",
      "\u001b[0;32m<ipython-input-26-7a8025e58dc8>\u001b[0m in \u001b[0;36m<module>\u001b[0;34m\u001b[0m\n\u001b[0;32m----> 1\u001b[0;31m \u001b[0mdiag\u001b[0m\u001b[0;34m(\u001b[0m\u001b[0mestimate_jacobian_score_u\u001b[0m\u001b[0;34m(\u001b[0m\u001b[0mG\u001b[0m\u001b[0;34m,\u001b[0m \u001b[0mG_hat\u001b[0m\u001b[0;34m,\u001b[0m \u001b[0mX\u001b[0m\u001b[0;34m,\u001b[0m \u001b[0mU\u001b[0m\u001b[0;34m,\u001b[0m \u001b[0mvariances\u001b[0m\u001b[0;34m)\u001b[0m\u001b[0;34m)\u001b[0m\u001b[0;34m\u001b[0m\u001b[0;34m\u001b[0m\u001b[0m\n\u001b[0m",
      "\u001b[0;32m<ipython-input-15-76951ac26aba>\u001b[0m in \u001b[0;36mestimate_jacobian_score_u\u001b[0;34m(G, G_hat, X, U, variances)\u001b[0m\n\u001b[1;32m      1\u001b[0m \u001b[0;32mdef\u001b[0m \u001b[0mestimate_jacobian_score_u\u001b[0m\u001b[0;34m(\u001b[0m\u001b[0mG\u001b[0m\u001b[0;34m,\u001b[0m \u001b[0mG_hat\u001b[0m\u001b[0;34m,\u001b[0m \u001b[0mX\u001b[0m\u001b[0;34m,\u001b[0m \u001b[0mU\u001b[0m\u001b[0;34m,\u001b[0m \u001b[0mvariances\u001b[0m\u001b[0;34m)\u001b[0m\u001b[0;34m:\u001b[0m\u001b[0;34m\u001b[0m\u001b[0;34m\u001b[0m\u001b[0m\n\u001b[1;32m      2\u001b[0m     \u001b[0mbeta\u001b[0m \u001b[0;34m=\u001b[0m \u001b[0mtorch\u001b[0m\u001b[0;34m.\u001b[0m\u001b[0mmatmul\u001b[0m\u001b[0;34m(\u001b[0m\u001b[0mtorch\u001b[0m\u001b[0;34m.\u001b[0m\u001b[0minverse\u001b[0m\u001b[0;34m(\u001b[0m\u001b[0mG\u001b[0m\u001b[0;34m)\u001b[0m\u001b[0;34m,\u001b[0m \u001b[0mG_hat\u001b[0m\u001b[0;34m)\u001b[0m\u001b[0;34m\u001b[0m\u001b[0;34m\u001b[0m\u001b[0m\n\u001b[0;32m----> 3\u001b[0;31m     \u001b[0;32mreturn\u001b[0m \u001b[0mtorch\u001b[0m\u001b[0;34m.\u001b[0m\u001b[0mmatmul\u001b[0m\u001b[0;34m(\u001b[0m\u001b[0mtorch\u001b[0m\u001b[0;34m.\u001b[0m\u001b[0mmatmul\u001b[0m\u001b[0;34m(\u001b[0m\u001b[0mbeta\u001b[0m\u001b[0;34m,\u001b[0m \u001b[0mjacobian_score_u\u001b[0m\u001b[0;34m(\u001b[0m\u001b[0mU\u001b[0m\u001b[0;34m,\u001b[0m \u001b[0mvariances\u001b[0m\u001b[0;34m)\u001b[0m\u001b[0;34m)\u001b[0m\u001b[0;34m,\u001b[0m \u001b[0mbeta\u001b[0m\u001b[0;34m.\u001b[0m\u001b[0mT\u001b[0m\u001b[0;34m)\u001b[0m\u001b[0;34m\u001b[0m\u001b[0;34m\u001b[0m\u001b[0m\n\u001b[0m",
      "\u001b[0;32m<ipython-input-14-f0562fd721ed>\u001b[0m in \u001b[0;36mjacobian_score_u\u001b[0;34m(U, variances)\u001b[0m\n\u001b[1;32m      1\u001b[0m \u001b[0;32mdef\u001b[0m \u001b[0mjacobian_score_u\u001b[0m\u001b[0;34m(\u001b[0m\u001b[0mU\u001b[0m\u001b[0;34m,\u001b[0m \u001b[0mvariances\u001b[0m\u001b[0;34m)\u001b[0m\u001b[0;34m:\u001b[0m\u001b[0;34m\u001b[0m\u001b[0;34m\u001b[0m\u001b[0m\n\u001b[0;32m----> 2\u001b[0;31m     \u001b[0mgrad_log_pu\u001b[0m \u001b[0;34m=\u001b[0m \u001b[0mscore_u\u001b[0m\u001b[0;34m(\u001b[0m\u001b[0mU\u001b[0m\u001b[0;34m,\u001b[0m \u001b[0mvariances\u001b[0m\u001b[0;34m)\u001b[0m\u001b[0;34m\u001b[0m\u001b[0;34m\u001b[0m\u001b[0m\n\u001b[0m\u001b[1;32m      3\u001b[0m     \u001b[0mhessian\u001b[0m \u001b[0;34m=\u001b[0m \u001b[0mtorch\u001b[0m\u001b[0;34m.\u001b[0m\u001b[0mzeros\u001b[0m\u001b[0;34m(\u001b[0m\u001b[0mU\u001b[0m\u001b[0;34m.\u001b[0m\u001b[0msize\u001b[0m\u001b[0;34m(\u001b[0m\u001b[0;36m0\u001b[0m\u001b[0;34m)\u001b[0m\u001b[0;34m,\u001b[0m \u001b[0mU\u001b[0m\u001b[0;34m.\u001b[0m\u001b[0msize\u001b[0m\u001b[0;34m(\u001b[0m\u001b[0;36m0\u001b[0m\u001b[0;34m)\u001b[0m\u001b[0;34m)\u001b[0m\u001b[0;34m\u001b[0m\u001b[0;34m\u001b[0m\u001b[0m\n\u001b[1;32m      4\u001b[0m     \u001b[0;32mfor\u001b[0m \u001b[0mi\u001b[0m \u001b[0;32min\u001b[0m \u001b[0mrange\u001b[0m\u001b[0;34m(\u001b[0m\u001b[0mU\u001b[0m\u001b[0;34m.\u001b[0m\u001b[0msize\u001b[0m\u001b[0;34m(\u001b[0m\u001b[0;36m0\u001b[0m\u001b[0;34m)\u001b[0m\u001b[0;34m)\u001b[0m\u001b[0;34m:\u001b[0m\u001b[0;34m\u001b[0m\u001b[0;34m\u001b[0m\u001b[0m\n\u001b[1;32m      5\u001b[0m         \u001b[0mgrad_grad_log_pu\u001b[0m \u001b[0;34m=\u001b[0m \u001b[0mtorch\u001b[0m\u001b[0;34m.\u001b[0m\u001b[0mautograd\u001b[0m\u001b[0;34m.\u001b[0m\u001b[0mgrad\u001b[0m\u001b[0;34m(\u001b[0m\u001b[0moutputs\u001b[0m\u001b[0;34m=\u001b[0m\u001b[0mgrad_log_pu\u001b[0m\u001b[0;34m[\u001b[0m\u001b[0mi\u001b[0m\u001b[0;34m]\u001b[0m\u001b[0;34m,\u001b[0m \u001b[0minputs\u001b[0m\u001b[0;34m=\u001b[0m\u001b[0mU\u001b[0m\u001b[0;34m,\u001b[0m \u001b[0mcreate_graph\u001b[0m\u001b[0;34m=\u001b[0m\u001b[0;32mTrue\u001b[0m\u001b[0;34m)\u001b[0m\u001b[0;34m\u001b[0m\u001b[0;34m\u001b[0m\u001b[0m\n",
      "\u001b[0;32m<ipython-input-13-eea35c8b8b33>\u001b[0m in \u001b[0;36mscore_u\u001b[0;34m(U, variances)\u001b[0m\n\u001b[1;32m      1\u001b[0m \u001b[0;32mdef\u001b[0m \u001b[0mscore_u\u001b[0m\u001b[0;34m(\u001b[0m\u001b[0mU\u001b[0m\u001b[0;34m,\u001b[0m \u001b[0mvariances\u001b[0m\u001b[0;34m)\u001b[0m\u001b[0;34m:\u001b[0m\u001b[0;34m\u001b[0m\u001b[0;34m\u001b[0m\u001b[0m\n\u001b[0;32m----> 2\u001b[0;31m     \u001b[0;32mreturn\u001b[0m \u001b[0mtorch\u001b[0m\u001b[0;34m.\u001b[0m\u001b[0mautograd\u001b[0m\u001b[0;34m.\u001b[0m\u001b[0mgrad\u001b[0m\u001b[0;34m(\u001b[0m\u001b[0moutputs\u001b[0m\u001b[0;34m=\u001b[0m\u001b[0mlog_pu\u001b[0m\u001b[0;34m(\u001b[0m\u001b[0mU\u001b[0m\u001b[0;34m,\u001b[0m \u001b[0mvariances\u001b[0m\u001b[0;34m)\u001b[0m\u001b[0;34m,\u001b[0m \u001b[0minputs\u001b[0m\u001b[0;34m=\u001b[0m\u001b[0mU\u001b[0m\u001b[0;34m,\u001b[0m \u001b[0mcreate_graph\u001b[0m\u001b[0;34m=\u001b[0m\u001b[0;32mTrue\u001b[0m\u001b[0;34m)\u001b[0m\u001b[0;34m[\u001b[0m\u001b[0;36m0\u001b[0m\u001b[0;34m]\u001b[0m\u001b[0;34m\u001b[0m\u001b[0;34m\u001b[0m\u001b[0m\n\u001b[0m",
      "\u001b[0;32m<ipython-input-12-8bfe937e14ca>\u001b[0m in \u001b[0;36mlog_pu\u001b[0;34m(U, variances)\u001b[0m\n\u001b[1;32m      1\u001b[0m \u001b[0;32mdef\u001b[0m \u001b[0mlog_pu\u001b[0m\u001b[0;34m(\u001b[0m\u001b[0mU\u001b[0m\u001b[0;34m,\u001b[0m \u001b[0mvariances\u001b[0m\u001b[0;34m)\u001b[0m\u001b[0;34m:\u001b[0m\u001b[0;34m\u001b[0m\u001b[0;34m\u001b[0m\u001b[0m\n\u001b[0;32m----> 2\u001b[0;31m     \u001b[0;32mreturn\u001b[0m \u001b[0mtorch\u001b[0m\u001b[0;34m.\u001b[0m\u001b[0mlog\u001b[0m\u001b[0;34m(\u001b[0m\u001b[0mp_u\u001b[0m\u001b[0;34m(\u001b[0m\u001b[0mU\u001b[0m\u001b[0;34m,\u001b[0m \u001b[0mvariances\u001b[0m\u001b[0;34m)\u001b[0m\u001b[0;34m)\u001b[0m\u001b[0;34m\u001b[0m\u001b[0;34m\u001b[0m\u001b[0m\n\u001b[0m",
      "\u001b[0;32m<ipython-input-11-e7c25991f1b2>\u001b[0m in \u001b[0;36mp_u\u001b[0;34m(U, variances)\u001b[0m\n\u001b[1;32m      1\u001b[0m \u001b[0;32mdef\u001b[0m \u001b[0mp_u\u001b[0m\u001b[0;34m(\u001b[0m\u001b[0mU\u001b[0m\u001b[0;34m,\u001b[0m \u001b[0mvariances\u001b[0m\u001b[0;34m)\u001b[0m\u001b[0;34m:\u001b[0m\u001b[0;34m\u001b[0m\u001b[0;34m\u001b[0m\u001b[0m\n\u001b[1;32m      2\u001b[0m     \u001b[0;31m# Calculate the product of Gaussian PDFs\u001b[0m\u001b[0;34m\u001b[0m\u001b[0;34m\u001b[0m\u001b[0;34m\u001b[0m\u001b[0m\n\u001b[0;32m----> 3\u001b[0;31m     \u001b[0mprod\u001b[0m \u001b[0;34m=\u001b[0m \u001b[0mgaussian_pdf\u001b[0m\u001b[0;34m(\u001b[0m\u001b[0mU\u001b[0m\u001b[0;34m[\u001b[0m\u001b[0;36m0\u001b[0m\u001b[0;34m]\u001b[0m\u001b[0;34m,\u001b[0m \u001b[0mtorch\u001b[0m\u001b[0;34m.\u001b[0m\u001b[0mtensor\u001b[0m\u001b[0;34m(\u001b[0m\u001b[0;36m0.0\u001b[0m\u001b[0;34m)\u001b[0m\u001b[0;34m,\u001b[0m \u001b[0mvariances\u001b[0m\u001b[0;34m[\u001b[0m\u001b[0;36m0\u001b[0m\u001b[0;34m]\u001b[0m\u001b[0;34m)\u001b[0m\u001b[0;34m\u001b[0m\u001b[0;34m\u001b[0m\u001b[0m\n\u001b[0m\u001b[1;32m      4\u001b[0m     \u001b[0;32mfor\u001b[0m \u001b[0mi\u001b[0m \u001b[0;32min\u001b[0m \u001b[0mrange\u001b[0m\u001b[0;34m(\u001b[0m\u001b[0;36m1\u001b[0m\u001b[0;34m,\u001b[0m \u001b[0mlen\u001b[0m\u001b[0;34m(\u001b[0m\u001b[0mU\u001b[0m\u001b[0;34m)\u001b[0m\u001b[0;34m)\u001b[0m\u001b[0;34m:\u001b[0m\u001b[0;34m\u001b[0m\u001b[0;34m\u001b[0m\u001b[0m\n\u001b[1;32m      5\u001b[0m         \u001b[0mprod\u001b[0m \u001b[0;34m*=\u001b[0m \u001b[0mguassian_pdf\u001b[0m\u001b[0;34m(\u001b[0m\u001b[0mU\u001b[0m\u001b[0;34m[\u001b[0m\u001b[0mi\u001b[0m\u001b[0;34m]\u001b[0m\u001b[0;34m,\u001b[0m \u001b[0mf\u001b[0m\u001b[0;34m(\u001b[0m\u001b[0mU\u001b[0m\u001b[0;34m[\u001b[0m\u001b[0mi\u001b[0m\u001b[0;34m-\u001b[0m\u001b[0;36m1\u001b[0m\u001b[0;34m]\u001b[0m\u001b[0;34m)\u001b[0m\u001b[0;34m,\u001b[0m \u001b[0mvariances\u001b[0m\u001b[0;34m[\u001b[0m\u001b[0mi\u001b[0m\u001b[0;34m]\u001b[0m\u001b[0;34m)\u001b[0m\u001b[0;34m\u001b[0m\u001b[0;34m\u001b[0m\u001b[0m\n",
      "\u001b[0;31mNameError\u001b[0m: name 'gaussian_pdf' is not defined"
     ]
    }
   ],
   "source": [
    "diag(estimate_jacobian_score_u(G, G_hat, X, U, variances))"
   ]
  },
  {
   "cell_type": "code",
   "execution_count": null,
   "id": "67f0dfbf",
   "metadata": {},
   "outputs": [],
   "source": []
  },
  {
   "cell_type": "code",
   "execution_count": 27,
   "id": "8a9da4ce",
   "metadata": {
    "collapsed": true
   },
   "outputs": [
    {
     "ename": "TypeError",
     "evalue": "p_u() missing 1 required positional argument: 'variances'",
     "output_type": "error",
     "traceback": [
      "\u001b[0;31m---------------------------------------------------------------------------\u001b[0m",
      "\u001b[0;31mTypeError\u001b[0m                                 Traceback (most recent call last)",
      "\u001b[0;32m<ipython-input-27-c4451a2b299e>\u001b[0m in \u001b[0;36m<module>\u001b[0;34m\u001b[0m\n\u001b[0;32m----> 1\u001b[0;31m \u001b[0mscore_x\u001b[0m\u001b[0;34m(\u001b[0m\u001b[0mX\u001b[0m\u001b[0;34m)\u001b[0m\u001b[0;34m\u001b[0m\u001b[0;34m\u001b[0m\u001b[0m\n\u001b[0m",
      "\u001b[0;32m<ipython-input-20-cd9bbda3cdb9>\u001b[0m in \u001b[0;36mscore_x\u001b[0;34m(X)\u001b[0m\n\u001b[1;32m      1\u001b[0m \u001b[0;32mdef\u001b[0m \u001b[0mscore_x\u001b[0m\u001b[0;34m(\u001b[0m\u001b[0mX\u001b[0m\u001b[0;34m)\u001b[0m\u001b[0;34m:\u001b[0m\u001b[0;34m\u001b[0m\u001b[0;34m\u001b[0m\u001b[0m\n\u001b[0;32m----> 2\u001b[0;31m     \u001b[0;32mreturn\u001b[0m \u001b[0mtorch\u001b[0m\u001b[0;34m.\u001b[0m\u001b[0mautograd\u001b[0m\u001b[0;34m.\u001b[0m\u001b[0mgrad\u001b[0m\u001b[0;34m(\u001b[0m\u001b[0moutputs\u001b[0m\u001b[0;34m=\u001b[0m\u001b[0mlog_px\u001b[0m\u001b[0;34m(\u001b[0m\u001b[0mX\u001b[0m\u001b[0;34m)\u001b[0m\u001b[0;34m,\u001b[0m \u001b[0minputs\u001b[0m\u001b[0;34m=\u001b[0m\u001b[0mX\u001b[0m\u001b[0;34m,\u001b[0m \u001b[0mcreate_graph\u001b[0m\u001b[0;34m=\u001b[0m\u001b[0;32mTrue\u001b[0m\u001b[0;34m)\u001b[0m\u001b[0;34m[\u001b[0m\u001b[0;36m0\u001b[0m\u001b[0;34m]\u001b[0m\u001b[0;34m\u001b[0m\u001b[0;34m\u001b[0m\u001b[0m\n\u001b[0m",
      "\u001b[0;32m<ipython-input-19-cdd77e0b7d9f>\u001b[0m in \u001b[0;36mlog_px\u001b[0;34m(X)\u001b[0m\n\u001b[1;32m      1\u001b[0m \u001b[0;32mdef\u001b[0m \u001b[0mlog_px\u001b[0m\u001b[0;34m(\u001b[0m\u001b[0mX\u001b[0m\u001b[0;34m)\u001b[0m\u001b[0;34m:\u001b[0m\u001b[0;34m\u001b[0m\u001b[0;34m\u001b[0m\u001b[0m\n\u001b[0;32m----> 2\u001b[0;31m     \u001b[0;32mreturn\u001b[0m \u001b[0mtorch\u001b[0m\u001b[0;34m.\u001b[0m\u001b[0mlog\u001b[0m\u001b[0;34m(\u001b[0m\u001b[0mp_x\u001b[0m\u001b[0;34m(\u001b[0m\u001b[0mX\u001b[0m\u001b[0;34m)\u001b[0m\u001b[0;34m)\u001b[0m\u001b[0;34m\u001b[0m\u001b[0;34m\u001b[0m\u001b[0m\n\u001b[0m",
      "\u001b[0;32m<ipython-input-18-bbcff7abb791>\u001b[0m in \u001b[0;36mp_x\u001b[0;34m(X)\u001b[0m\n\u001b[1;32m      1\u001b[0m \u001b[0;32mdef\u001b[0m \u001b[0mp_x\u001b[0m\u001b[0;34m(\u001b[0m\u001b[0mX\u001b[0m\u001b[0;34m)\u001b[0m\u001b[0;34m:\u001b[0m\u001b[0;34m\u001b[0m\u001b[0;34m\u001b[0m\u001b[0m\n\u001b[0;32m----> 2\u001b[0;31m     \u001b[0;32mreturn\u001b[0m \u001b[0mp_u\u001b[0m\u001b[0;34m(\u001b[0m\u001b[0mtorch\u001b[0m\u001b[0;34m.\u001b[0m\u001b[0mmatmul\u001b[0m\u001b[0;34m(\u001b[0m\u001b[0mtorch\u001b[0m\u001b[0;34m.\u001b[0m\u001b[0minverse\u001b[0m\u001b[0;34m(\u001b[0m\u001b[0mG\u001b[0m\u001b[0;34m)\u001b[0m\u001b[0;34m,\u001b[0m \u001b[0mX\u001b[0m\u001b[0;34m.\u001b[0m\u001b[0munsqueeze\u001b[0m\u001b[0;34m(\u001b[0m\u001b[0;36m1\u001b[0m\u001b[0;34m)\u001b[0m\u001b[0;34m)\u001b[0m\u001b[0;34m)\u001b[0m\u001b[0;34m*\u001b[0m\u001b[0mtorch\u001b[0m\u001b[0;34m.\u001b[0m\u001b[0mabs\u001b[0m\u001b[0;34m(\u001b[0m\u001b[0mtorch\u001b[0m\u001b[0;34m.\u001b[0m\u001b[0mdet\u001b[0m\u001b[0;34m(\u001b[0m\u001b[0mtorch\u001b[0m\u001b[0;34m.\u001b[0m\u001b[0minverse\u001b[0m\u001b[0;34m(\u001b[0m\u001b[0mG\u001b[0m\u001b[0;34m)\u001b[0m\u001b[0;34m)\u001b[0m\u001b[0;34m)\u001b[0m\u001b[0;34m\u001b[0m\u001b[0;34m\u001b[0m\u001b[0m\n\u001b[0m",
      "\u001b[0;31mTypeError\u001b[0m: p_u() missing 1 required positional argument: 'variances'"
     ]
    }
   ],
   "source": [
    "score_x(X)"
   ]
  },
  {
   "cell_type": "code",
   "execution_count": null,
   "id": "61513456",
   "metadata": {},
   "outputs": [
    {
     "data": {
      "text/plain": [
       "tensor([ 0.0886,  1.3798, -0.3731], grad_fn=<AddBackward0>)"
      ]
     },
     "execution_count": 850,
     "metadata": {},
     "output_type": "execute_result"
    }
   ],
   "source": [
    "score_u(U)"
   ]
  },
  {
   "cell_type": "code",
   "execution_count": 28,
   "id": "8f161d41",
   "metadata": {},
   "outputs": [
    {
     "ename": "TypeError",
     "evalue": "p_u() missing 1 required positional argument: 'variances'",
     "output_type": "error",
     "traceback": [
      "\u001b[0;31m---------------------------------------------------------------------------\u001b[0m",
      "\u001b[0;31mTypeError\u001b[0m                                 Traceback (most recent call last)",
      "\u001b[0;32m<ipython-input-28-fd5de091797a>\u001b[0m in \u001b[0;36m<module>\u001b[0;34m\u001b[0m\n\u001b[0;32m----> 1\u001b[0;31m \u001b[0mtorch\u001b[0m\u001b[0;34m.\u001b[0m\u001b[0mmatmul\u001b[0m\u001b[0;34m(\u001b[0m\u001b[0mG\u001b[0m\u001b[0;34m.\u001b[0m\u001b[0mT\u001b[0m\u001b[0;34m,\u001b[0m \u001b[0mscore_x\u001b[0m\u001b[0;34m(\u001b[0m\u001b[0mX\u001b[0m\u001b[0;34m)\u001b[0m\u001b[0;34m.\u001b[0m\u001b[0munsqueeze\u001b[0m\u001b[0;34m(\u001b[0m\u001b[0;36m1\u001b[0m\u001b[0;34m)\u001b[0m\u001b[0;34m)\u001b[0m\u001b[0;34m\u001b[0m\u001b[0;34m\u001b[0m\u001b[0m\n\u001b[0m",
      "\u001b[0;32m<ipython-input-20-cd9bbda3cdb9>\u001b[0m in \u001b[0;36mscore_x\u001b[0;34m(X)\u001b[0m\n\u001b[1;32m      1\u001b[0m \u001b[0;32mdef\u001b[0m \u001b[0mscore_x\u001b[0m\u001b[0;34m(\u001b[0m\u001b[0mX\u001b[0m\u001b[0;34m)\u001b[0m\u001b[0;34m:\u001b[0m\u001b[0;34m\u001b[0m\u001b[0;34m\u001b[0m\u001b[0m\n\u001b[0;32m----> 2\u001b[0;31m     \u001b[0;32mreturn\u001b[0m \u001b[0mtorch\u001b[0m\u001b[0;34m.\u001b[0m\u001b[0mautograd\u001b[0m\u001b[0;34m.\u001b[0m\u001b[0mgrad\u001b[0m\u001b[0;34m(\u001b[0m\u001b[0moutputs\u001b[0m\u001b[0;34m=\u001b[0m\u001b[0mlog_px\u001b[0m\u001b[0;34m(\u001b[0m\u001b[0mX\u001b[0m\u001b[0;34m)\u001b[0m\u001b[0;34m,\u001b[0m \u001b[0minputs\u001b[0m\u001b[0;34m=\u001b[0m\u001b[0mX\u001b[0m\u001b[0;34m,\u001b[0m \u001b[0mcreate_graph\u001b[0m\u001b[0;34m=\u001b[0m\u001b[0;32mTrue\u001b[0m\u001b[0;34m)\u001b[0m\u001b[0;34m[\u001b[0m\u001b[0;36m0\u001b[0m\u001b[0;34m]\u001b[0m\u001b[0;34m\u001b[0m\u001b[0;34m\u001b[0m\u001b[0m\n\u001b[0m",
      "\u001b[0;32m<ipython-input-19-cdd77e0b7d9f>\u001b[0m in \u001b[0;36mlog_px\u001b[0;34m(X)\u001b[0m\n\u001b[1;32m      1\u001b[0m \u001b[0;32mdef\u001b[0m \u001b[0mlog_px\u001b[0m\u001b[0;34m(\u001b[0m\u001b[0mX\u001b[0m\u001b[0;34m)\u001b[0m\u001b[0;34m:\u001b[0m\u001b[0;34m\u001b[0m\u001b[0;34m\u001b[0m\u001b[0m\n\u001b[0;32m----> 2\u001b[0;31m     \u001b[0;32mreturn\u001b[0m \u001b[0mtorch\u001b[0m\u001b[0;34m.\u001b[0m\u001b[0mlog\u001b[0m\u001b[0;34m(\u001b[0m\u001b[0mp_x\u001b[0m\u001b[0;34m(\u001b[0m\u001b[0mX\u001b[0m\u001b[0;34m)\u001b[0m\u001b[0;34m)\u001b[0m\u001b[0;34m\u001b[0m\u001b[0;34m\u001b[0m\u001b[0m\n\u001b[0m",
      "\u001b[0;32m<ipython-input-18-bbcff7abb791>\u001b[0m in \u001b[0;36mp_x\u001b[0;34m(X)\u001b[0m\n\u001b[1;32m      1\u001b[0m \u001b[0;32mdef\u001b[0m \u001b[0mp_x\u001b[0m\u001b[0;34m(\u001b[0m\u001b[0mX\u001b[0m\u001b[0;34m)\u001b[0m\u001b[0;34m:\u001b[0m\u001b[0;34m\u001b[0m\u001b[0;34m\u001b[0m\u001b[0m\n\u001b[0;32m----> 2\u001b[0;31m     \u001b[0;32mreturn\u001b[0m \u001b[0mp_u\u001b[0m\u001b[0;34m(\u001b[0m\u001b[0mtorch\u001b[0m\u001b[0;34m.\u001b[0m\u001b[0mmatmul\u001b[0m\u001b[0;34m(\u001b[0m\u001b[0mtorch\u001b[0m\u001b[0;34m.\u001b[0m\u001b[0minverse\u001b[0m\u001b[0;34m(\u001b[0m\u001b[0mG\u001b[0m\u001b[0;34m)\u001b[0m\u001b[0;34m,\u001b[0m \u001b[0mX\u001b[0m\u001b[0;34m.\u001b[0m\u001b[0munsqueeze\u001b[0m\u001b[0;34m(\u001b[0m\u001b[0;36m1\u001b[0m\u001b[0;34m)\u001b[0m\u001b[0;34m)\u001b[0m\u001b[0;34m)\u001b[0m\u001b[0;34m*\u001b[0m\u001b[0mtorch\u001b[0m\u001b[0;34m.\u001b[0m\u001b[0mabs\u001b[0m\u001b[0;34m(\u001b[0m\u001b[0mtorch\u001b[0m\u001b[0;34m.\u001b[0m\u001b[0mdet\u001b[0m\u001b[0;34m(\u001b[0m\u001b[0mtorch\u001b[0m\u001b[0;34m.\u001b[0m\u001b[0minverse\u001b[0m\u001b[0;34m(\u001b[0m\u001b[0mG\u001b[0m\u001b[0;34m)\u001b[0m\u001b[0;34m)\u001b[0m\u001b[0;34m)\u001b[0m\u001b[0;34m\u001b[0m\u001b[0;34m\u001b[0m\u001b[0m\n\u001b[0m",
      "\u001b[0;31mTypeError\u001b[0m: p_u() missing 1 required positional argument: 'variances'"
     ]
    }
   ],
   "source": [
    "torch.matmul(G.T, score_x(X).unsqueeze(1))"
   ]
  },
  {
   "cell_type": "code",
   "execution_count": null,
   "id": "6b3d6a0a",
   "metadata": {},
   "outputs": [],
   "source": []
  },
  {
   "cell_type": "markdown",
   "id": "c2dcedff",
   "metadata": {},
   "source": [
    "# Variance Analysis"
   ]
  },
  {
   "cell_type": "code",
   "execution_count": 1178,
   "id": "3dcc73d8",
   "metadata": {},
   "outputs": [
    {
     "data": {
      "text/plain": [
       "(tensor([[-1.2816e+00,  5.4852e-01,  3.8196e-01],\n",
       "         [ 2.7925e-01, -1.4751e-01,  4.1896e-02],\n",
       "         [-1.2223e+00, -1.8207e-01,  6.6510e-02],\n",
       "         [-1.2953e+00,  3.1872e+00,  1.0144e+01],\n",
       "         [-2.8116e-01, -1.2051e+00,  1.1980e+00],\n",
       "         [-8.2955e-01,  2.0070e+00,  4.0439e+00],\n",
       "         [-2.4473e+00,  7.3781e+00,  5.4387e+01],\n",
       "         [-4.5617e-01,  3.3566e+00,  1.1190e+01],\n",
       "         [-3.6973e+00,  1.6008e+01,  2.5632e+02],\n",
       "         [-1.4092e-01,  2.2534e-01, -1.4295e-01],\n",
       "         [ 3.1128e+00,  1.1077e+01,  1.2266e+02],\n",
       "         [ 7.8855e-01, -1.6983e-01, -1.8168e-01],\n",
       "         [ 3.0941e+00,  9.6191e+00,  9.2449e+01],\n",
       "         [-1.0631e-01, -1.4415e-01,  1.2212e-01],\n",
       "         [ 1.6246e+00,  4.8165e+00,  2.3661e+01],\n",
       "         [-6.8146e-02, -3.9815e-01,  1.6055e-02],\n",
       "         [-8.1533e-01,  3.8914e-01,  8.3463e-02],\n",
       "         [-7.7810e-01,  1.4316e+00,  2.2858e+00],\n",
       "         [-1.7389e+00,  3.6894e+00,  1.3373e+01],\n",
       "         [ 1.6970e-01,  5.6641e-01,  4.2427e-01],\n",
       "         [-7.5707e-01,  1.3262e+00,  1.8920e+00],\n",
       "         [-4.0204e+00,  1.6414e+01,  2.6952e+02],\n",
       "         [ 8.0497e-01,  1.8542e+00,  3.2669e+00],\n",
       "         [-3.1231e+00,  1.1316e+01,  1.2804e+02],\n",
       "         [ 1.6992e+00,  1.4861e+00,  2.3996e+00],\n",
       "         [-2.4954e+00,  6.4173e+00,  4.0917e+01],\n",
       "         [-2.2151e+00,  3.6947e+00,  1.3691e+01],\n",
       "         [ 1.9337e+00,  3.6280e+00,  1.3162e+01],\n",
       "         [-4.6241e-01,  1.7105e-01, -1.8202e-02],\n",
       "         [ 3.4198e-01,  6.1321e-01,  4.8073e-01],\n",
       "         [ 9.5234e-01,  1.2324e+00,  1.7430e+00],\n",
       "         [-4.5753e+00,  1.9749e+01,  3.9002e+02],\n",
       "         [ 2.6579e-01,  1.1491e+00,  1.3188e+00],\n",
       "         [ 2.5623e+00,  9.1481e+00,  8.3611e+01],\n",
       "         [-3.6548e+00,  1.3701e+01,  1.8785e+02],\n",
       "         [ 4.5301e-01,  1.5386e+00,  2.5534e+00],\n",
       "         [ 1.9692e+00,  4.0809e+00,  1.6587e+01],\n",
       "         [-2.2947e+00,  5.3315e+00,  2.8455e+01],\n",
       "         [ 4.8123e-01,  4.2479e-01,  3.5405e-01],\n",
       "         [ 3.7874e+00,  1.4936e+01,  2.2328e+02],\n",
       "         [-2.4854e+00,  5.9542e+00,  3.5198e+01],\n",
       "         [-4.2738e+00,  1.5642e+01,  2.4468e+02],\n",
       "         [ 8.9702e-01,  1.1918e+00,  1.6675e+00],\n",
       "         [ 4.0191e-02, -9.4126e-01,  6.3690e-01],\n",
       "         [ 3.1610e+00,  9.8791e+00,  9.7625e+01],\n",
       "         [-4.1381e-01, -1.9627e-01,  3.0914e-02],\n",
       "         [ 3.7390e-01,  2.1085e-01,  1.2020e-01],\n",
       "         [ 4.6980e+00,  2.1817e+01,  4.7610e+02],\n",
       "         [-1.2903e-01, -2.0637e+00,  4.4494e+00],\n",
       "         [ 1.0376e+00,  2.7997e-01,  7.8549e-02],\n",
       "         [ 1.5421e-01, -1.8248e+00,  3.3157e+00],\n",
       "         [-3.5380e+00,  1.1456e+01,  1.3118e+02],\n",
       "         [ 2.7044e+00,  5.9268e+00,  3.5283e+01],\n",
       "         [-6.1144e-02, -1.4830e+00,  2.3325e+00],\n",
       "         [-6.9645e-01, -2.3167e+00,  5.5026e+00],\n",
       "         [-2.0753e+00,  4.2194e+00,  1.7754e+01],\n",
       "         [-2.0717e+00,  4.9282e+00,  2.4308e+01],\n",
       "         [-1.1105e+00,  1.9644e+00,  3.8880e+00],\n",
       "         [ 1.1833e+00,  5.1278e-01,  2.6198e-01],\n",
       "         [-4.8504e+00,  2.2055e+01,  4.8651e+02],\n",
       "         [ 2.8163e+00,  8.2478e+00,  6.8217e+01],\n",
       "         [ 1.1123e-02,  4.0286e-01, -4.8410e-02],\n",
       "         [ 1.6494e+00,  2.6040e+00,  6.6786e+00],\n",
       "         [-2.0242e+00,  6.7721e+00,  4.5905e+01],\n",
       "         [ 9.5631e-01,  1.2916e+00,  1.5615e+00],\n",
       "         [-3.0937e+00,  8.7458e+00,  7.6579e+01],\n",
       "         [-4.6263e+00,  2.1140e+01,  4.4686e+02],\n",
       "         [ 6.7073e-01, -7.3702e-01,  4.2924e-01],\n",
       "         [-4.9417e+00,  2.6640e+01,  7.0953e+02],\n",
       "         [ 3.8760e+00,  1.3289e+01,  1.7662e+02],\n",
       "         [ 2.9413e+00,  6.4503e+00,  4.1435e+01],\n",
       "         [-1.6237e+00,  2.0235e+00,  4.0676e+00],\n",
       "         [-3.4937e+00,  1.0469e+01,  1.0933e+02],\n",
       "         [-2.5003e+00,  5.7637e+00,  3.3039e+01],\n",
       "         [ 2.3402e+00,  4.2911e+00,  1.8273e+01],\n",
       "         [-5.3997e-01,  7.9495e-01,  4.4403e-01],\n",
       "         [-1.7715e+00,  2.7355e+00,  7.4504e+00],\n",
       "         [-9.0749e-01,  7.8438e-01,  7.0614e-01],\n",
       "         [ 2.2196e+00,  4.0639e+00,  1.6566e+01],\n",
       "         [-5.6218e-01, -7.6250e-01,  6.3062e-01],\n",
       "         [ 3.9064e+00,  1.5978e+01,  2.5539e+02],\n",
       "         [ 6.9747e-01,  1.2622e+00,  1.5231e+00],\n",
       "         [-1.1404e+00,  2.5966e+00,  6.7007e+00],\n",
       "         [ 3.0849e-01, -7.4197e-01,  7.7960e-01],\n",
       "         [-3.6810e+00,  1.4385e+01,  2.0702e+02],\n",
       "         [-2.5242e+00,  8.1181e+00,  6.5909e+01],\n",
       "         [-1.8199e+00,  5.4362e+00,  2.9613e+01],\n",
       "         [-4.1133e+00,  1.7872e+01,  3.1925e+02],\n",
       "         [ 7.2379e-01,  1.7059e+00,  2.9657e+00],\n",
       "         [ 1.8042e+00,  2.6466e+00,  6.9066e+00],\n",
       "         [ 6.8215e-01,  1.6701e+00,  2.5464e+00],\n",
       "         [-1.0393e+00,  8.5043e-02, -2.5184e-01],\n",
       "         [-1.8690e+00,  5.0808e+00,  2.5643e+01],\n",
       "         [ 2.2182e+00,  5.1584e+00,  2.6451e+01],\n",
       "         [ 8.4241e-01,  1.0425e+00,  1.1531e+00],\n",
       "         [ 1.0244e-01,  3.2066e-02,  2.5435e-02],\n",
       "         [-4.1761e+00,  1.4688e+01,  2.1618e+02],\n",
       "         [-3.8274e+00,  1.4300e+01,  2.0452e+02],\n",
       "         [ 1.4075e+00,  1.7317e+00,  2.7562e+00],\n",
       "         [ 1.1502e+00,  1.0048e+00,  1.1617e+00]], grad_fn=<StackBackward0>),\n",
       " tensor([[-7.6024e+00, -6.6837e+00,  8.0434e+00],\n",
       "         [ 2.2858e+00,  9.6541e-01, -1.1842e+00],\n",
       "         [-6.2754e+00, -1.0698e+01,  1.0107e+01],\n",
       "         [ 2.5974e+01, -1.0767e+01,  2.8811e+01],\n",
       "         [ 7.3846e+00, -1.3495e+01,  1.2108e+01],\n",
       "         [ 6.1638e+00, -1.4217e+00,  1.0172e+01],\n",
       "         [ 1.9665e+02, -9.2793e+01,  1.6907e+02],\n",
       "         [ 3.4846e+01, -5.6501e+00,  2.5411e+01],\n",
       "         [ 1.0327e+03, -5.1155e+02,  8.3130e+02],\n",
       "         [-2.1623e+00,  8.7056e-01, -5.6268e-01],\n",
       "         [ 5.1182e+02, -1.8357e+02,  3.4518e+02],\n",
       "         [ 4.3703e+00,  5.1809e+00, -5.5882e+00],\n",
       "         [ 3.8604e+02, -1.2365e+02,  2.4841e+02],\n",
       "         [ 3.6703e-01, -2.1147e+00,  1.9096e+00],\n",
       "         [ 9.6129e+01, -8.5919e+00,  4.5900e+01],\n",
       "         [ 9.4641e-01, -3.3861e+00,  2.5107e+00],\n",
       "         [-5.6532e+00, -3.5940e+00,  4.3702e+00],\n",
       "         [ 7.2415e-01, -1.0280e+00,  6.5634e+00],\n",
       "         [ 3.5698e+01, -1.8076e+01,  4.0725e+01],\n",
       "         [ 1.0075e+00,  4.3252e+00, -2.5667e+00],\n",
       "         [-5.1368e-01, -7.0144e-01,  5.5703e+00],\n",
       "         [ 1.0865e+03, -5.4187e+02,  8.7715e+02],\n",
       "         [ 1.2857e+01,  1.1668e+01, -3.7682e+00],\n",
       "         [ 4.9779e+02, -2.4158e+02,  4.0836e+02],\n",
       "         [ 1.5524e+01,  1.7836e+01, -1.1521e+01],\n",
       "         [ 1.4135e+02, -6.8594e+01,  1.2775e+02],\n",
       "         [ 3.4267e+01, -2.2382e+01,  4.5293e+01],\n",
       "         [ 5.6454e+01,  9.7648e+00,  1.3304e+01],\n",
       "         [-3.3298e+00, -2.2389e+00,  2.4966e+00],\n",
       "         [ 2.1084e+00,  5.8301e+00, -3.8684e+00],\n",
       "         [ 9.1377e+00,  1.1912e+01, -7.0474e+00],\n",
       "         [ 1.5923e+03, -8.0322e+02,  1.2798e+03],\n",
       "         [ 3.5610e+00,  7.1135e+00, -3.0529e+00],\n",
       "         [ 3.4632e+02, -1.1042e+02,  2.2420e+02],\n",
       "         [ 7.4501e+02, -3.6804e+02,  6.0652e+02],\n",
       "         [ 8.7328e+00,  8.4237e+00, -2.0896e+00],\n",
       "         [ 6.9987e+01,  5.2703e+00,  2.2617e+01],\n",
       "         [ 9.2241e+01, -4.5752e+01,  8.8687e+01],\n",
       "         [ 2.9796e+00,  5.8382e+00, -4.4032e+00],\n",
       "         [ 9.3738e+02, -3.8553e+02,  6.6776e+02],\n",
       "         [ 1.1822e+02, -5.8484e+01,  1.1026e+02],\n",
       "         [ 9.8030e+02, -4.9138e+02,  7.9725e+02],\n",
       "         [ 8.6184e+00,  1.1380e+01, -6.7017e+00],\n",
       "         [ 5.9977e+00, -7.8782e+00,  6.5185e+00],\n",
       "         [ 4.0793e+02, -1.3335e+02,  2.6447e+02],\n",
       "         [-1.6571e+00, -4.5994e+00,  4.1117e+00],\n",
       "         [ 2.0289e+00,  4.0490e+00, -3.3695e+00],\n",
       "         [ 2.0112e+03, -9.1902e+02,  1.4980e+03],\n",
       "         [ 2.5049e+01, -2.6033e+01,  2.6402e+01],\n",
       "         [ 5.5077e+00,  9.6591e+00, -8.7306e+00],\n",
       "         [ 2.1050e+01, -1.9547e+01,  1.9243e+01],\n",
       "         [ 5.0843e+02, -2.5102e+02,  4.2151e+02],\n",
       "         [ 1.4902e+02, -1.9613e+01,  7.2537e+01],\n",
       "         [ 1.4454e+01, -1.6452e+01,  1.5762e+01],\n",
       "         [ 2.7086e+01, -3.4581e+01,  3.5442e+01],\n",
       "         [ 5.0930e+01, -2.7062e+01,  5.5682e+01],\n",
       "         [ 7.6950e+01, -3.7268e+01,  7.4747e+01],\n",
       "         [ 3.9850e+00, -3.4865e+00,  1.1909e+01],\n",
       "         [ 6.4048e+00,  1.1990e+01, -1.0313e+01],\n",
       "         [ 1.9995e+03, -1.0138e+03,  1.6028e+03],\n",
       "         [ 2.8429e+02, -7.9019e+01,  1.7374e+02],\n",
       "         [-1.4344e+00,  3.0636e+00, -2.2261e+00],\n",
       "         [ 3.0108e+01,  1.5440e+01, -1.9069e+00],\n",
       "         [ 1.6448e+02, -7.4132e+01,  1.3972e+02],\n",
       "         [ 8.1885e+00,  1.2786e+01, -7.9919e+00],\n",
       "         [ 2.8421e+02, -1.3968e+02,  2.4353e+02],\n",
       "         [ 1.8327e+03, -9.2622e+02,  1.4691e+03],\n",
       "         [ 8.1339e+00, -1.1705e+00,  1.6606e-01],\n",
       "         [ 2.9463e+03, -1.5018e+03,  2.3490e+03],\n",
       "         [ 7.4194e+02, -2.8783e+02,  5.1453e+02],\n",
       "         [ 1.7526e+02, -2.8435e+01,  8.9411e+01],\n",
       "         [ 1.5706e+00, -7.3676e+00,  1.6010e+01],\n",
       "         [ 4.1761e+02, -2.0678e+02,  3.5079e+02],\n",
       "         [ 1.0943e+02, -5.4918e+01,  1.0386e+02],\n",
       "         [ 7.8755e+01,  5.6428e+00,  2.4664e+01],\n",
       "         [-3.7882e+00,  5.3632e-01,  1.5958e+00],\n",
       "         [ 1.3017e+01, -1.1304e+01,  2.5250e+01],\n",
       "         [-4.7723e+00, -2.9303e+00,  5.2518e+00],\n",
       "         [ 7.1414e+01,  7.0935e+00,  2.0787e+01],\n",
       "         [ 1.8764e+00, -1.1149e+01,  1.0047e+01],\n",
       "         [ 1.0732e+03, -4.5206e+02,  7.7235e+02],\n",
       "         [ 6.6037e+00,  1.0708e+01, -6.0773e+00],\n",
       "         [ 1.3917e+01, -5.7708e+00,  1.8712e+01],\n",
       "         [ 7.5432e+00, -4.7630e+00,  4.0595e+00],\n",
       "         [ 8.2536e+02, -4.0805e+02,  6.6937e+02],\n",
       "         [ 2.4353e+02, -1.1497e+02,  2.0568e+02],\n",
       "         [ 9.9677e+01, -4.4115e+01,  8.8672e+01],\n",
       "         [ 1.2958e+03, -6.4812e+02,  1.0419e+03],\n",
       "         [ 1.1559e+01,  1.0701e+01, -3.4809e+00],\n",
       "         [ 3.1860e+01,  1.6383e+01, -2.4691e+00],\n",
       "         [ 9.6211e+00,  1.1109e+01, -4.4434e+00],\n",
       "         [-7.4349e+00, -6.6711e+00,  6.3549e+00],\n",
       "         [ 8.3408e+01, -3.7762e+01,  7.7107e+01],\n",
       "         [ 1.1054e+02, -8.1713e+00,  4.9466e+01],\n",
       "         [ 6.5591e+00,  1.1103e+01, -7.3383e+00],\n",
       "         [ 6.0588e-01,  9.4393e-01, -8.2283e-01],\n",
       "         [ 8.6099e+02, -4.3099e+02,  7.0306e+02],\n",
       "         [ 8.1399e+02, -4.0394e+02,  6.6226e+02],\n",
       "         [ 1.4569e+01,  1.6546e+01, -9.3545e+00],\n",
       "         [ 8.5165e+00,  1.3144e+01, -9.3864e+00]], grad_fn=<StackBackward0>))"
      ]
     },
     "execution_count": 1178,
     "metadata": {},
     "output_type": "execute_result"
    }
   ],
   "source": [
    "variances = torch.rand(3)*5\n",
    "G = sample_full_rank_matrix()\n",
    "G_hat = sample_full_rank_matrix()\n",
    "U, X = sample_n(G, f, variances, 100)\n",
    "U,X"
   ]
  },
  {
   "cell_type": "code",
   "execution_count": 1179,
   "id": "c675357e",
   "metadata": {},
   "outputs": [],
   "source": [
    "true_diag_jacobians = torch.zeros_like(U)\n",
    "estimated_diag_jacobians = torch.zeros_like(U)"
   ]
  },
  {
   "cell_type": "code",
   "execution_count": 1180,
   "id": "7f7992aa",
   "metadata": {},
   "outputs": [],
   "source": [
    "for i in range(len(U)):\n",
    "    true_diag_jacobians[i] = diag(jacobian_score_u(U[i], variances))\n",
    "    estimated_diag_jacobians[i] = diag(estimate_jacobian_score_u(G, G_hat, X[i], U[i], variances))"
   ]
  },
  {
   "cell_type": "code",
   "execution_count": 1181,
   "id": "d73e0ed2",
   "metadata": {},
   "outputs": [
    {
     "data": {
      "text/plain": [
       "tensor([4.0091e+02, 5.3193e+08, 7.1547e-11], grad_fn=<VarBackward0>)"
      ]
     },
     "execution_count": 1181,
     "metadata": {},
     "output_type": "execute_result"
    }
   ],
   "source": [
    "torch.var(true_diag_jacobians, dim=0, unbiased=True)"
   ]
  },
  {
   "cell_type": "code",
   "execution_count": 1182,
   "id": "b09759b1",
   "metadata": {},
   "outputs": [
    {
     "data": {
      "text/plain": [
       "tensor([1.8752e+10, 3.8981e+11, 3.2277e+11], grad_fn=<VarBackward0>)"
      ]
     },
     "execution_count": 1182,
     "metadata": {},
     "output_type": "execute_result"
    }
   ],
   "source": [
    "torch.var(estimated_diag_jacobians, dim=0, unbiased=True)"
   ]
  },
  {
   "cell_type": "code",
   "execution_count": null,
   "id": "7425839c",
   "metadata": {},
   "outputs": [],
   "source": []
  },
  {
   "cell_type": "markdown",
   "id": "d7200390",
   "metadata": {},
   "source": [
    "# Full Simulation"
   ]
  },
  {
   "cell_type": "code",
   "execution_count": 1183,
   "id": "6def7cf3",
   "metadata": {},
   "outputs": [],
   "source": [
    "#adjustable params\n",
    "num_latent = 4\n",
    "num_samples = 500\n",
    "variance_max = 1\n",
    "lower_G = -1 #min possibel value in G or G_hat\n",
    "upper_G = 1 #max possible value in G or G_hat\n",
    "f = lambda x:  x**2"
   ]
  },
  {
   "cell_type": "code",
   "execution_count": 1184,
   "id": "23d4b891",
   "metadata": {},
   "outputs": [],
   "source": [
    "#unadjustable params (for now)\n",
    "num_observed = num_latent"
   ]
  },
  {
   "cell_type": "code",
   "execution_count": 1198,
   "id": "73ccd4c8",
   "metadata": {},
   "outputs": [],
   "source": [
    "def simulate(num_latent, num_observed, num_samples, variance_max, lower_G, upper_G, f):\n",
    "    variances = torch.rand(num_latent)*variance_max\n",
    "#     G = sample_full_rank_matrix(num_latent, lower_G, upper_G)\n",
    "    G = sample_full_rank_matrix_sparse(num_latent, lower_G, upper_G)\n",
    "#     G_hat = sample_full_rank_matrix(num_latent, lower_G, upper_G)\n",
    "#     G_hat = G - sample_full_rank_matrix(num_latent, 0, 0.01)\n",
    "#     G_hat = torch.eye(num_latent)\n",
    "    G_hat = sample_full_rank_matrix_sparse(num_latent, lower_G, upper_G)\n",
    "    b = torch.matmul(torch.inverse(G), G_hat)\n",
    "    print(b)\n",
    "    U, X = sample_n(G, f, variances, num_samples)\n",
    "    \n",
    "    true_diag_jacobians = torch.zeros_like(U)\n",
    "    estimated_diag_jacobians = torch.zeros_like(U)\n",
    "    \n",
    "    for i in range(len(U)):\n",
    "        true_diag_jacobians[i] = diag(jacobian_score_u(U[i], variances))\n",
    "        estimated_diag_jacobians[i] = diag(estimate_jacobian_score_u(G, G_hat, X[i], U[i], variances))\n",
    "    \n",
    "    print('True Variance:', torch.var(true_diag_jacobians, dim=0, unbiased=True).tolist())\n",
    "    print('Estimated Variance:', torch.var(estimated_diag_jacobians, dim=0, unbiased=True).tolist())\n",
    "    print()\n",
    "    passed=False\n",
    "    for var in torch.var(true_diag_jacobians, dim=0, unbiased=True).tolist():\n",
    "        if np.isclose(var, 0.0, 1e-5):\n",
    "            passed=True\n",
    "    for var in torch.var(estimated_diag_jacobians, dim=0, unbiased=True).tolist():\n",
    "        if np.isclose(var, 0.0, 1e-5):\n",
    "            passed=False\n",
    "    if passed:\n",
    "        print('Passed identifiabability')\n",
    "    else:\n",
    "        print('Failed identifiabability')"
   ]
  },
  {
   "cell_type": "code",
   "execution_count": 1208,
   "id": "442834ab",
   "metadata": {},
   "outputs": [
    {
     "name": "stdout",
     "output_type": "stream",
     "text": [
      "tensor([[ 1.1331,  0.0000, -5.1714,  0.0000],\n",
      "        [-0.1646, -0.3573,  0.0000,  0.0000],\n",
      "        [ 0.0000,  0.0000, -2.6082,  0.0000],\n",
      "        [ 0.0000,  0.0000,  0.0000, -4.8368]])\n",
      "True Variance: [28.008695602416992, 805.4207153320312, 308027.4375, 5.715526251066916e-14]\n",
      "Estimated Variance: [220382656.0, 13.891548156738281, 14254862.0, 3.133234297014731e-11]\n",
      "\n",
      "Failed identifiabability\n"
     ]
    }
   ],
   "source": [
    "simulate(num_latent, num_observed, num_samples, variance_max, lower_G, upper_G, f)"
   ]
  },
  {
   "cell_type": "markdown",
   "id": "7dafad8c",
   "metadata": {},
   "source": [
    "# Estimating Jacobian"
   ]
  },
  {
   "cell_type": "code",
   "execution_count": 1168,
   "id": "951b4820",
   "metadata": {},
   "outputs": [],
   "source": [
    "def Stein_grad(X, s, eta):\n",
    "    \"\"\"\n",
    "    Estimates the score of X at the provided samples points, using Stein identities\n",
    "    \"\"\"\n",
    "    n, d = X.shape\n",
    "\n",
    "    X_diff = X.unsqueeze(1)-X.unsqueeze(0)\n",
    "    K = torch.exp(-torch.norm(X_diff, dim=2, p=2)**2 / (2 * s**2)) / s\n",
    "\n",
    "    nablaK = -torch.einsum('kij,ik->kj', X_diff, K) / s**2\n",
    "    return torch.matmul(torch.inverse(K + eta * torch.eye(n)), nablaK)"
   ]
  },
  {
   "cell_type": "code",
   "execution_count": 70,
   "id": "4248f911",
   "metadata": {},
   "outputs": [],
   "source": [
    "def median_pairwise(X):\n",
    "    X_diff = X.unsqueeze(1) - X.unsqueeze(0)\n",
    "    pairwise_distances = torch.norm(X_diff, dim=2, p=2)\n",
    "    \n",
    "    upper_triangular_values = pairwise_distances[torch.triu(torch.ones_like(pairwise_distances), diagonal=1) == 1]\n",
    "    return upper_triangular_values.median().item()"
   ]
  },
  {
   "cell_type": "code",
   "execution_count": 71,
   "id": "978be1a4",
   "metadata": {},
   "outputs": [],
   "source": [
    "s = median_pairwise(X)\n",
    "eta = 0.001\n",
    "\n",
    "G_stein = Stein_grad(X,s,eta)\n"
   ]
  },
  {
   "cell_type": "code",
   "execution_count": 72,
   "id": "b3c9a3df",
   "metadata": {},
   "outputs": [],
   "source": [
    "x = X[0]\n",
    "y = G_stein[0]"
   ]
  },
  {
   "cell_type": "code",
   "execution_count": 73,
   "id": "a2e1ac9d",
   "metadata": {},
   "outputs": [],
   "source": [
    "J = torch.zeros_like(y.unsqueeze(1).mm(X[0].unsqueeze(0)))"
   ]
  },
  {
   "cell_type": "code",
   "execution_count": 74,
   "id": "54c5b985",
   "metadata": {},
   "outputs": [],
   "source": [
    "y[0].backward(retain_graph=True)"
   ]
  },
  {
   "cell_type": "code",
   "execution_count": 75,
   "id": "1b245a4d",
   "metadata": {},
   "outputs": [
    {
     "ename": "AttributeError",
     "evalue": "'NoneType' object has no attribute 'clone'",
     "output_type": "error",
     "traceback": [
      "\u001b[0;31m---------------------------------------------------------------------------\u001b[0m",
      "\u001b[0;31mAttributeError\u001b[0m                            Traceback (most recent call last)",
      "\u001b[0;32m<ipython-input-75-5fc2ae904243>\u001b[0m in \u001b[0;36m<module>\u001b[0;34m\u001b[0m\n\u001b[1;32m      8\u001b[0m \u001b[0;34m\u001b[0m\u001b[0m\n\u001b[1;32m      9\u001b[0m     \u001b[0;31m# Copy the gradients (which are the partial derivatives)\u001b[0m\u001b[0;34m\u001b[0m\u001b[0;34m\u001b[0m\u001b[0;34m\u001b[0m\u001b[0m\n\u001b[0;32m---> 10\u001b[0;31m     \u001b[0mJacobian\u001b[0m\u001b[0;34m[\u001b[0m\u001b[0mi\u001b[0m\u001b[0;34m]\u001b[0m \u001b[0;34m=\u001b[0m \u001b[0mx\u001b[0m\u001b[0;34m.\u001b[0m\u001b[0mgrad\u001b[0m\u001b[0;34m.\u001b[0m\u001b[0mclone\u001b[0m\u001b[0;34m(\u001b[0m\u001b[0;34m)\u001b[0m\u001b[0;34m\u001b[0m\u001b[0;34m\u001b[0m\u001b[0m\n\u001b[0m\u001b[1;32m     11\u001b[0m \u001b[0;34m\u001b[0m\u001b[0m\n\u001b[1;32m     12\u001b[0m \u001b[0mprint\u001b[0m\u001b[0;34m(\u001b[0m\u001b[0mJacobian\u001b[0m\u001b[0;34m)\u001b[0m\u001b[0;34m\u001b[0m\u001b[0;34m\u001b[0m\u001b[0m\n",
      "\u001b[0;31mAttributeError\u001b[0m: 'NoneType' object has no attribute 'clone'"
     ]
    }
   ],
   "source": [
    "for i in range(len(y)):\n",
    "    # Zero gradients (important to clear previous gradients)\n",
    "    if x.grad is not None:\n",
    "        x.grad.zero_()\n",
    "    \n",
    "    # Compute the gradient of the i-th function with respect to x\n",
    "    y[i].backward(retain_graph=True)\n",
    "    \n",
    "    # Copy the gradients (which are the partial derivatives)\n",
    "    Jacobian[i] = x.grad.clone()\n",
    "\n",
    "print(Jacobian)"
   ]
  },
  {
   "cell_type": "code",
   "execution_count": 58,
   "id": "7f5c00ae",
   "metadata": {},
   "outputs": [
    {
     "ename": "RuntimeError",
     "evalue": "element 0 of tensors does not require grad and does not have a grad_fn",
     "output_type": "error",
     "traceback": [
      "\u001b[0;31m---------------------------------------------------------------------------\u001b[0m",
      "\u001b[0;31mRuntimeError\u001b[0m                              Traceback (most recent call last)",
      "\u001b[0;32m<ipython-input-58-13c846e30120>\u001b[0m in \u001b[0;36m<module>\u001b[0;34m\u001b[0m\n\u001b[1;32m     34\u001b[0m \u001b[0;34m\u001b[0m\u001b[0m\n\u001b[1;32m     35\u001b[0m     \u001b[0;31m# Compute the gradient of the i-th function with respect to x\u001b[0m\u001b[0;34m\u001b[0m\u001b[0;34m\u001b[0m\u001b[0;34m\u001b[0m\u001b[0m\n\u001b[0;32m---> 36\u001b[0;31m     \u001b[0my\u001b[0m\u001b[0;34m[\u001b[0m\u001b[0mi\u001b[0m\u001b[0;34m]\u001b[0m\u001b[0;34m.\u001b[0m\u001b[0mbackward\u001b[0m\u001b[0;34m(\u001b[0m\u001b[0mretain_graph\u001b[0m\u001b[0;34m=\u001b[0m\u001b[0;32mTrue\u001b[0m\u001b[0;34m)\u001b[0m\u001b[0;34m\u001b[0m\u001b[0;34m\u001b[0m\u001b[0m\n\u001b[0m\u001b[1;32m     37\u001b[0m \u001b[0;34m\u001b[0m\u001b[0m\n\u001b[1;32m     38\u001b[0m     \u001b[0;31m# Copy the gradients (which are the partial derivatives)\u001b[0m\u001b[0;34m\u001b[0m\u001b[0;34m\u001b[0m\u001b[0;34m\u001b[0m\u001b[0m\n",
      "\u001b[0;32m~/opt/anaconda3/lib/python3.7/site-packages/torch/_tensor.py\u001b[0m in \u001b[0;36mbackward\u001b[0;34m(self, gradient, retain_graph, create_graph, inputs)\u001b[0m\n\u001b[1;32m    394\u001b[0m                 \u001b[0mcreate_graph\u001b[0m\u001b[0;34m=\u001b[0m\u001b[0mcreate_graph\u001b[0m\u001b[0;34m,\u001b[0m\u001b[0;34m\u001b[0m\u001b[0;34m\u001b[0m\u001b[0m\n\u001b[1;32m    395\u001b[0m                 inputs=inputs)\n\u001b[0;32m--> 396\u001b[0;31m         \u001b[0mtorch\u001b[0m\u001b[0;34m.\u001b[0m\u001b[0mautograd\u001b[0m\u001b[0;34m.\u001b[0m\u001b[0mbackward\u001b[0m\u001b[0;34m(\u001b[0m\u001b[0mself\u001b[0m\u001b[0;34m,\u001b[0m \u001b[0mgradient\u001b[0m\u001b[0;34m,\u001b[0m \u001b[0mretain_graph\u001b[0m\u001b[0;34m,\u001b[0m \u001b[0mcreate_graph\u001b[0m\u001b[0;34m,\u001b[0m \u001b[0minputs\u001b[0m\u001b[0;34m=\u001b[0m\u001b[0minputs\u001b[0m\u001b[0;34m)\u001b[0m\u001b[0;34m\u001b[0m\u001b[0;34m\u001b[0m\u001b[0m\n\u001b[0m\u001b[1;32m    397\u001b[0m \u001b[0;34m\u001b[0m\u001b[0m\n\u001b[1;32m    398\u001b[0m     \u001b[0;32mdef\u001b[0m \u001b[0mregister_hook\u001b[0m\u001b[0;34m(\u001b[0m\u001b[0mself\u001b[0m\u001b[0;34m,\u001b[0m \u001b[0mhook\u001b[0m\u001b[0;34m)\u001b[0m\u001b[0;34m:\u001b[0m\u001b[0;34m\u001b[0m\u001b[0;34m\u001b[0m\u001b[0m\n",
      "\u001b[0;32m~/opt/anaconda3/lib/python3.7/site-packages/torch/autograd/__init__.py\u001b[0m in \u001b[0;36mbackward\u001b[0;34m(tensors, grad_tensors, retain_graph, create_graph, grad_variables, inputs)\u001b[0m\n\u001b[1;32m    173\u001b[0m     Variable._execution_engine.run_backward(  # Calls into the C++ engine to run the backward pass\n\u001b[1;32m    174\u001b[0m         \u001b[0mtensors\u001b[0m\u001b[0;34m,\u001b[0m \u001b[0mgrad_tensors_\u001b[0m\u001b[0;34m,\u001b[0m \u001b[0mretain_graph\u001b[0m\u001b[0;34m,\u001b[0m \u001b[0mcreate_graph\u001b[0m\u001b[0;34m,\u001b[0m \u001b[0minputs\u001b[0m\u001b[0;34m,\u001b[0m\u001b[0;34m\u001b[0m\u001b[0;34m\u001b[0m\u001b[0m\n\u001b[0;32m--> 175\u001b[0;31m         allow_unreachable=True, accumulate_grad=True)  # Calls into the C++ engine to run the backward pass\n\u001b[0m\u001b[1;32m    176\u001b[0m \u001b[0;34m\u001b[0m\u001b[0m\n\u001b[1;32m    177\u001b[0m def grad(\n",
      "\u001b[0;31mRuntimeError\u001b[0m: element 0 of tensors does not require grad and does not have a grad_fn"
     ]
    }
   ],
   "source": [
    "import torch\n",
    "\n",
    "# Define your functions f1, f2, and f3\n",
    "def f1(x):\n",
    "    # Placeholder for actual function\n",
    "    return x[0] ** 2 + x[1] - x[2]  # Example function of x\n",
    "\n",
    "def f2(x):\n",
    "    # Placeholder for actual function\n",
    "    return x[1] ** 2 + x[2] - x[0]  # Example function of x\n",
    "\n",
    "def f3(x):\n",
    "    # Placeholder for actual function\n",
    "    return x[2] ** 2 + x[0] - x[1]  # Example function of x\n",
    "\n",
    "# Define the vector-valued function f(x)\n",
    "def f(x):\n",
    "    return torch.tensor([f1(x), f2(x), f3(x)], dtype=torch.float32)\n",
    "\n",
    "# Define the point x at which you want to evaluate the Jacobian\n",
    "x = torch.tensor([1.0, 2.0, 3.0], requires_grad=True)\n",
    "\n",
    "# Compute the function value at x\n",
    "y = f(x)\n",
    "\n",
    "# Initialize a Jacobian matrix with zeros\n",
    "Jacobian = torch.zeros((3, 3))\n",
    "\n",
    "# Compute the Jacobian matrix\n",
    "for i in range(3):\n",
    "    # Zero gradients (important to clear previous gradients)\n",
    "    if x.grad is not None:\n",
    "        x.grad.zero_()\n",
    "    \n",
    "    # Compute the gradient of the i-th function with respect to x\n",
    "    y[i].backward(retain_graph=True)\n",
    "    \n",
    "    # Copy the gradients (which are the partial derivatives)\n",
    "    Jacobian[i] = x.grad.clone()\n",
    "\n",
    "print(Jacobian)\n"
   ]
  },
  {
   "cell_type": "code",
   "execution_count": null,
   "id": "3b22c386",
   "metadata": {},
   "outputs": [],
   "source": []
  },
  {
   "cell_type": "code",
   "execution_count": null,
   "id": "3b0aae92",
   "metadata": {},
   "outputs": [],
   "source": []
  },
  {
   "cell_type": "code",
   "execution_count": null,
   "id": "7bb97cf0",
   "metadata": {},
   "outputs": [],
   "source": []
  },
  {
   "cell_type": "code",
   "execution_count": null,
   "id": "27db0ebb",
   "metadata": {},
   "outputs": [],
   "source": []
  },
  {
   "cell_type": "code",
   "execution_count": null,
   "id": "04bfc657",
   "metadata": {},
   "outputs": [],
   "source": []
  },
  {
   "cell_type": "code",
   "execution_count": 14,
   "id": "0d0955c8",
   "metadata": {},
   "outputs": [
    {
     "name": "stdout",
     "output_type": "stream",
     "text": [
      "First call\n",
      "tensor([[4., 2., 2., 2., 2.],\n",
      "        [2., 4., 2., 2., 2.],\n",
      "        [2., 2., 4., 2., 2.],\n",
      "        [2., 2., 2., 4., 2.]])\n",
      "\n",
      "Second call\n",
      "tensor([[8., 4., 4., 4., 4.],\n",
      "        [4., 8., 4., 4., 4.],\n",
      "        [4., 4., 8., 4., 4.],\n",
      "        [4., 4., 4., 8., 4.]])\n",
      "\n",
      "Call after zeroing gradients\n",
      "tensor([[4., 2., 2., 2., 2.],\n",
      "        [2., 4., 2., 2., 2.],\n",
      "        [2., 2., 4., 2., 2.],\n",
      "        [2., 2., 2., 4., 2.]])\n"
     ]
    }
   ],
   "source": [
    "inp = torch.eye(4, 5, requires_grad=True)\n",
    "out = (inp+1).pow(2).t()\n",
    "out.backward(torch.ones_like(out), retain_graph=True)\n",
    "print(f\"First call\\n{inp.grad}\")\n",
    "out.backward(torch.ones_like(out), retain_graph=True)\n",
    "print(f\"\\nSecond call\\n{inp.grad}\")\n",
    "inp.grad.zero_()\n",
    "out.backward(torch.ones_like(out), retain_graph=True)\n",
    "print(f\"\\nCall after zeroing gradients\\n{inp.grad}\")"
   ]
  },
  {
   "cell_type": "code",
   "execution_count": 15,
   "id": "9782e642",
   "metadata": {},
   "outputs": [],
   "source": [
    "out = (inp+1).pow(2).t()"
   ]
  },
  {
   "cell_type": "code",
   "execution_count": 16,
   "id": "4c710f9e",
   "metadata": {},
   "outputs": [],
   "source": [
    "out.backward(torch.ones_like(out), retain_graph = True)"
   ]
  },
  {
   "cell_type": "code",
   "execution_count": null,
   "id": "91a0da41",
   "metadata": {},
   "outputs": [],
   "source": []
  },
  {
   "cell_type": "code",
   "execution_count": null,
   "id": "8b77ca84",
   "metadata": {},
   "outputs": [],
   "source": [
    "def Stein_grad(X, s, eta): # Not used\n",
    "    n, d = X.shape\n",
    "\n",
    "    X_diff = X.unsqueeze(1)-X\n",
    "    K = torch.exp(-torch.norm(X_diff, dim=2, p=2)**2 / (2 * s**2)) / s\n",
    "\n",
    "    nablaK = -torch.einsum('kij,ik->kj', X_diff, K) / s**2\n",
    "    return torch.matmul(torch.inverse(K + eta * torch.eye(n)), nablaK)"
   ]
  },
  {
   "cell_type": "code",
   "execution_count": null,
   "id": "0211b3ec",
   "metadata": {},
   "outputs": [],
   "source": []
  },
  {
   "cell_type": "code",
   "execution_count": null,
   "id": "6ad3a7a6",
   "metadata": {},
   "outputs": [],
   "source": []
  },
  {
   "cell_type": "code",
   "execution_count": null,
   "id": "810c3b89",
   "metadata": {},
   "outputs": [],
   "source": []
  },
  {
   "cell_type": "code",
   "execution_count": 45,
   "id": "8c5c5a9e",
   "metadata": {},
   "outputs": [],
   "source": [
    "def Stein_hess(X, eta_G, eta_H, s = None):\n",
    "    \"\"\"\n",
    "    Estimates the diagonal of the Hessian of log p_X at the provided samples points\n",
    "    X, using first and second-order Stein identities\n",
    "    \"\"\"\n",
    "    n, d = X.shape\n",
    "    \n",
    "    X_diff = X.unsqueeze(1)-X\n",
    "    if s is None:\n",
    "        D = torch.norm(X_diff, dim=2, p=2)\n",
    "        s = D.flatten().median()\n",
    "    K = torch.exp(-torch.norm(X_diff, dim=2, p=2)**2 / (2 * s**2)) / s\n",
    "    \n",
    "    nablaK = -torch.einsum('kij,ik->kj', X_diff, K) / s**2\n",
    "    G = torch.matmul(torch.inverse(K + eta_G * torch.eye(n)), nablaK)\n",
    "    \n",
    "    nabla2K = torch.einsum('kij,ik->kj', -1/s**2 + X_diff**2/s**4, K)\n",
    "    return -G**2 + torch.matmul(torch.inverse(K + eta_H * torch.eye(n)), nabla2K)"
   ]
  },
  {
   "cell_type": "code",
   "execution_count": 46,
   "id": "1485657f",
   "metadata": {},
   "outputs": [],
   "source": [
    "def compute_top_order(X, eta_G, eta_H, normalize_var=True, dispersion=\"var\"):\n",
    "    n, d = X.shape\n",
    "    order = []\n",
    "    active_nodes = list(range(d))\n",
    "    for i in range(d-1):\n",
    "        H = Stein_hess(X, eta_G, eta_H)\n",
    "        if normalize_var:\n",
    "            H = H / H.mean(axis=0)\n",
    "        if dispersion == \"var\": # The one mentioned in the paper\n",
    "            l = int(H.var(axis=0).argmin())\n",
    "        elif dispersion == \"median\":\n",
    "            med = H.median(axis = 0)[0]\n",
    "            l = int((H - med).abs().mean(axis=0).argmin())\n",
    "        else:\n",
    "            raise Exception(\"Unknown dispersion criterion\")\n",
    "        order.append(active_nodes[l])\n",
    "        active_nodes.pop(l)\n",
    "        X = torch.hstack([X[:,0:l], X[:,l+1:]])\n",
    "    order.append(active_nodes[0])\n",
    "    order.reverse()\n",
    "    return order\n",
    "    "
   ]
  },
  {
   "cell_type": "code",
   "execution_count": null,
   "id": "36dfd83f",
   "metadata": {},
   "outputs": [],
   "source": []
  },
  {
   "cell_type": "code",
   "execution_count": null,
   "id": "174c183b",
   "metadata": {},
   "outputs": [],
   "source": []
  }
 ],
 "metadata": {
  "kernelspec": {
   "display_name": "Python 3",
   "language": "python",
   "name": "python3"
  },
  "language_info": {
   "codemirror_mode": {
    "name": "ipython",
    "version": 3
   },
   "file_extension": ".py",
   "mimetype": "text/x-python",
   "name": "python",
   "nbconvert_exporter": "python",
   "pygments_lexer": "ipython3",
   "version": "3.12.2"
  }
 },
 "nbformat": 4,
 "nbformat_minor": 5
}
