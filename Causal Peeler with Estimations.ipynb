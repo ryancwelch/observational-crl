{
 "cells": [
  {
   "cell_type": "code",
   "execution_count": 1,
   "metadata": {},
   "outputs": [
    {
     "name": "stderr",
     "output_type": "stream",
     "text": [
      "/Users/ryanwelch/opt/anaconda3/envs/causal/lib/python3.12/site-packages/tqdm/auto.py:21: TqdmWarning: IProgress not found. Please update jupyter and ipywidgets. See https://ipywidgets.readthedocs.io/en/stable/user_install.html\n",
      "  from .autonotebook import tqdm as notebook_tqdm\n"
     ]
    }
   ],
   "source": [
    "from generate_samples import SyntheticDAG\n",
    "from oracle import *\n",
    "from causal_peeler_e import *\n",
    "# from causal_peeler import *\n",
    "from stein import *\n",
    "from ssm import *\n",
    "import torch\n",
    "import numpy as np"
   ]
  },
  {
   "cell_type": "code",
   "execution_count": 2,
   "metadata": {},
   "outputs": [],
   "source": [
    "def sample_full_rank_matrix(n=3, lower=-10, upper=10):\n",
    "    while True:\n",
    "        matrix = torch.FloatTensor(n, n).uniform_(lower, upper)\n",
    "        matrix.requires_grad_(True)\n",
    "        matrix.retain_grad()\n",
    "        if torch.det(matrix).item() != 0:\n",
    "            return matrix"
   ]
  },
  {
   "cell_type": "code",
   "execution_count": 3,
   "metadata": {},
   "outputs": [],
   "source": [
    "def max_diff(x, H_diff_sym):\n",
    "    max_diff = 0.0\n",
    "    for mat in H_diff_sym:\n",
    "        val = np.abs(x@mat@x)\n",
    "        max_diff = max(max_diff, val)\n",
    "    return max_diff"
   ]
  },
  {
   "cell_type": "code",
   "execution_count": 4,
   "metadata": {},
   "outputs": [],
   "source": [
    "DAG_type = 'line'\n",
    "num_latent = 4\n",
    "num_testing_samples = 1000\n",
    "num_training_samples = 100000\n",
    "variance_max = 1\n",
    "lower_G = -1 #min possibel value in G or G_hat\n",
    "upper_G = 1 #max possible value in G or G_hat"
   ]
  },
  {
   "cell_type": "code",
   "execution_count": 5,
   "metadata": {},
   "outputs": [],
   "source": [
    "G = sample_full_rank_matrix(num_latent, lower_G, upper_G)+torch.eye(num_latent)\n",
    "graph = SyntheticDAG(num_latent, DAG_type, variance_max)"
   ]
  },
  {
   "cell_type": "code",
   "execution_count": 6,
   "metadata": {},
   "outputs": [],
   "source": [
    "U = graph.get_samples(num_testing_samples)\n",
    "U_tr = graph.get_samples(num_training_samples)\n",
    "X = (G@U.T).T\n",
    "X_tr = (G@U_tr.T).T"
   ]
  },
  {
   "cell_type": "code",
   "execution_count": 7,
   "metadata": {},
   "outputs": [
    {
     "name": "stderr",
     "output_type": "stream",
     "text": [
      "INFO:root:Epoch:     1/    30, val_loss=-151.4999876709\n",
      "INFO:root:Epoch:     2/    30, val_loss=-299.1029575195\n",
      "INFO:root:Epoch:     3/    30, val_loss=-368.6050801270\n",
      "INFO:root:Epoch:     4/    30, val_loss=-372.5962270508\n",
      "INFO:root:Epoch:     5/    30, val_loss=-411.2854286621\n",
      "INFO:root:Epoch:     6/    30, val_loss=-508.7157608398\n",
      "INFO:root:Epoch:     7/    30, val_loss=-501.4762122070\n",
      "INFO:root:Epoch:     8/    30, val_loss=-546.2244935547\n",
      "INFO:root:Epoch:     9/    30, val_loss=-585.4717416992\n",
      "INFO:root:Epoch:    10/    30, val_loss=-598.6986997070\n",
      "INFO:root:Epoch:    11/    30, val_loss=-637.3385202148\n",
      "INFO:root:Epoch:    12/    30, val_loss=-673.0720013672\n",
      "INFO:root:Epoch:    13/    30, val_loss=-597.4071733398\n",
      "INFO:root:Epoch:    14/    30, val_loss=-709.9466132813\n",
      "INFO:root:Epoch:    15/    30, val_loss=-720.3417676758\n",
      "INFO:root:Epoch:    16/    30, val_loss=-714.5022395508\n",
      "INFO:root:Epoch:    17/    30, val_loss=-750.7409346680\n",
      "INFO:root:Epoch:    18/    30, val_loss=-545.3073561523\n",
      "INFO:root:Epoch:    19/    30, val_loss=-626.4433612305\n",
      "INFO:root:Epoch:    20/    30, val_loss=-747.0543192383\n",
      "INFO:root:Epoch:    21/    30, val_loss=-762.6149489258\n",
      "INFO:root:Epoch:    22/    30, val_loss=-637.6780999023\n",
      "INFO:root:Epoch:    23/    30, val_loss=-613.5994028320\n",
      "INFO:root:Epoch:    24/    30, val_loss=-789.1802529297\n",
      "INFO:root:Epoch:    25/    30, val_loss=-747.8143866211\n",
      "INFO:root:Epoch:    26/    30, val_loss=-768.4141583008\n",
      "INFO:root:Epoch:    27/    30, val_loss=-805.9442076172\n",
      "INFO:root:Epoch:    28/    30, val_loss=-742.1051072266\n",
      "INFO:root:Epoch:    29/    30, val_loss=-626.4698189453\n",
      "INFO:root:Epoch:    30/    30, val_loss=-696.7476255859\n"
     ]
    }
   ],
   "source": [
    "J_X_ssm = ssm_hess(X, X_tr, score_est_steps=30).detach().numpy()\n",
    "J_X_bar_ssm = np.mean(J_X_ssm, axis=0)\n",
    "J_X_diff_ssm = J_X_ssm - J_X_bar_ssm\n",
    "J_X_diff_sym_ssm = symmetrize(J_X_diff_ssm)"
   ]
  },
  {
   "cell_type": "code",
   "execution_count": 10,
   "metadata": {},
   "outputs": [
    {
     "name": "stdout",
     "output_type": "stream",
     "text": [
      "Gurobi Optimizer version 11.0.1 build v11.0.1rc0 (mac64[rosetta2] - Darwin 21.6.0 21G72)\n"
     ]
    },
    {
     "name": "stderr",
     "output_type": "stream",
     "text": [
      "INFO:gurobipy:Gurobi Optimizer version 11.0.1 build v11.0.1rc0 (mac64[rosetta2] - Darwin 21.6.0 21G72)\n"
     ]
    },
    {
     "name": "stdout",
     "output_type": "stream",
     "text": [
      "\n"
     ]
    },
    {
     "name": "stderr",
     "output_type": "stream",
     "text": [
      "INFO:gurobipy:\n"
     ]
    },
    {
     "name": "stdout",
     "output_type": "stream",
     "text": [
      "CPU model: Apple M2\n"
     ]
    },
    {
     "name": "stderr",
     "output_type": "stream",
     "text": [
      "INFO:gurobipy:CPU model: Apple M2\n"
     ]
    },
    {
     "name": "stdout",
     "output_type": "stream",
     "text": [
      "Thread count: 8 physical cores, 8 logical processors, using up to 8 threads\n"
     ]
    },
    {
     "name": "stderr",
     "output_type": "stream",
     "text": [
      "INFO:gurobipy:Thread count: 8 physical cores, 8 logical processors, using up to 8 threads\n"
     ]
    },
    {
     "name": "stdout",
     "output_type": "stream",
     "text": [
      "\n"
     ]
    },
    {
     "name": "stderr",
     "output_type": "stream",
     "text": [
      "INFO:gurobipy:\n"
     ]
    },
    {
     "name": "stdout",
     "output_type": "stream",
     "text": [
      "Optimize a model with 0 rows, 5 columns and 0 nonzeros\n"
     ]
    },
    {
     "name": "stderr",
     "output_type": "stream",
     "text": [
      "INFO:gurobipy:Optimize a model with 0 rows, 5 columns and 0 nonzeros\n"
     ]
    },
    {
     "name": "stdout",
     "output_type": "stream",
     "text": [
      "Model fingerprint: 0x14b65ef2\n"
     ]
    },
    {
     "name": "stderr",
     "output_type": "stream",
     "text": [
      "INFO:gurobipy:Model fingerprint: 0x14b65ef2\n"
     ]
    },
    {
     "name": "stdout",
     "output_type": "stream",
     "text": [
      "Model has 2002 quadratic constraints\n"
     ]
    },
    {
     "name": "stderr",
     "output_type": "stream",
     "text": [
      "INFO:gurobipy:Model has 2002 quadratic constraints\n"
     ]
    },
    {
     "name": "stdout",
     "output_type": "stream",
     "text": [
      "Coefficient statistics:\n"
     ]
    },
    {
     "name": "stderr",
     "output_type": "stream",
     "text": [
      "INFO:gurobipy:Coefficient statistics:\n"
     ]
    },
    {
     "name": "stdout",
     "output_type": "stream",
     "text": [
      "  Matrix range     [0e+00, 0e+00]\n"
     ]
    },
    {
     "name": "stderr",
     "output_type": "stream",
     "text": [
      "INFO:gurobipy:  Matrix range     [0e+00, 0e+00]\n"
     ]
    },
    {
     "name": "stdout",
     "output_type": "stream",
     "text": [
      "  QMatrix range    [7e-03, 2e+03]\n"
     ]
    },
    {
     "name": "stderr",
     "output_type": "stream",
     "text": [
      "INFO:gurobipy:  QMatrix range    [7e-03, 2e+03]\n"
     ]
    },
    {
     "name": "stdout",
     "output_type": "stream",
     "text": [
      "  QLMatrix range   [1e+00, 1e+00]\n"
     ]
    },
    {
     "name": "stderr",
     "output_type": "stream",
     "text": [
      "INFO:gurobipy:  QLMatrix range   [1e+00, 1e+00]\n"
     ]
    },
    {
     "name": "stdout",
     "output_type": "stream",
     "text": [
      "  Objective range  [1e+00, 1e+00]\n"
     ]
    },
    {
     "name": "stderr",
     "output_type": "stream",
     "text": [
      "INFO:gurobipy:  Objective range  [1e+00, 1e+00]\n"
     ]
    },
    {
     "name": "stdout",
     "output_type": "stream",
     "text": [
      "  Bounds range     [0e+00, 0e+00]\n"
     ]
    },
    {
     "name": "stderr",
     "output_type": "stream",
     "text": [
      "INFO:gurobipy:  Bounds range     [0e+00, 0e+00]\n"
     ]
    },
    {
     "name": "stdout",
     "output_type": "stream",
     "text": [
      "  RHS range        [0e+00, 0e+00]\n"
     ]
    },
    {
     "name": "stderr",
     "output_type": "stream",
     "text": [
      "INFO:gurobipy:  RHS range        [0e+00, 0e+00]\n"
     ]
    },
    {
     "name": "stdout",
     "output_type": "stream",
     "text": [
      "  QRHS range       [1e+00, 1e+00]\n"
     ]
    },
    {
     "name": "stderr",
     "output_type": "stream",
     "text": [
      "INFO:gurobipy:  QRHS range       [1e+00, 1e+00]\n"
     ]
    },
    {
     "name": "stdout",
     "output_type": "stream",
     "text": [
      "\n"
     ]
    },
    {
     "name": "stderr",
     "output_type": "stream",
     "text": [
      "INFO:gurobipy:\n"
     ]
    },
    {
     "name": "stdout",
     "output_type": "stream",
     "text": [
      "Continuous model is non-convex -- solving as a MIP\n"
     ]
    },
    {
     "name": "stderr",
     "output_type": "stream",
     "text": [
      "INFO:gurobipy:Continuous model is non-convex -- solving as a MIP\n"
     ]
    },
    {
     "name": "stdout",
     "output_type": "stream",
     "text": [
      "\n"
     ]
    },
    {
     "name": "stderr",
     "output_type": "stream",
     "text": [
      "INFO:gurobipy:\n"
     ]
    },
    {
     "name": "stdout",
     "output_type": "stream",
     "text": [
      "Presolve time: 0.03s\n"
     ]
    },
    {
     "name": "stderr",
     "output_type": "stream",
     "text": [
      "INFO:gurobipy:Presolve time: 0.03s\n"
     ]
    },
    {
     "name": "stdout",
     "output_type": "stream",
     "text": [
      "Presolved: 2035 rows, 15 columns, 22067 nonzeros\n"
     ]
    },
    {
     "name": "stderr",
     "output_type": "stream",
     "text": [
      "INFO:gurobipy:Presolved: 2035 rows, 15 columns, 22067 nonzeros\n"
     ]
    },
    {
     "name": "stdout",
     "output_type": "stream",
     "text": [
      "Presolved model has 3 quadratic constraint(s)\n"
     ]
    },
    {
     "name": "stderr",
     "output_type": "stream",
     "text": [
      "INFO:gurobipy:Presolved model has 3 quadratic constraint(s)\n"
     ]
    },
    {
     "name": "stdout",
     "output_type": "stream",
     "text": [
      "Presolved model has 10 bilinear constraint(s)\n"
     ]
    },
    {
     "name": "stderr",
     "output_type": "stream",
     "text": [
      "INFO:gurobipy:Presolved model has 10 bilinear constraint(s)\n"
     ]
    },
    {
     "name": "stdout",
     "output_type": "stream",
     "text": [
      "Variable types: 15 continuous, 0 integer (0 binary)\n"
     ]
    },
    {
     "name": "stderr",
     "output_type": "stream",
     "text": [
      "INFO:gurobipy:Variable types: 15 continuous, 0 integer (0 binary)\n"
     ]
    },
    {
     "name": "stdout",
     "output_type": "stream",
     "text": [
      "\n"
     ]
    },
    {
     "name": "stderr",
     "output_type": "stream",
     "text": [
      "INFO:gurobipy:\n"
     ]
    },
    {
     "name": "stdout",
     "output_type": "stream",
     "text": [
      "Root relaxation: objective 3.113256e-01, 75 iterations, 0.01 seconds (0.02 work units)\n"
     ]
    },
    {
     "name": "stderr",
     "output_type": "stream",
     "text": [
      "INFO:gurobipy:Root relaxation: objective 3.113256e-01, 75 iterations, 0.01 seconds (0.02 work units)\n"
     ]
    },
    {
     "name": "stdout",
     "output_type": "stream",
     "text": [
      "\n"
     ]
    },
    {
     "name": "stderr",
     "output_type": "stream",
     "text": [
      "INFO:gurobipy:\n"
     ]
    },
    {
     "name": "stdout",
     "output_type": "stream",
     "text": [
      "    Nodes    |    Current Node    |     Objective Bounds      |     Work\n"
     ]
    },
    {
     "name": "stderr",
     "output_type": "stream",
     "text": [
      "INFO:gurobipy:    Nodes    |    Current Node    |     Objective Bounds      |     Work\n"
     ]
    },
    {
     "name": "stdout",
     "output_type": "stream",
     "text": [
      " Expl Unexpl |  Obj  Depth IntInf | Incumbent    BestBd   Gap | It/Node Time\n"
     ]
    },
    {
     "name": "stderr",
     "output_type": "stream",
     "text": [
      "INFO:gurobipy: Expl Unexpl |  Obj  Depth IntInf | Incumbent    BestBd   Gap | It/Node Time\n"
     ]
    },
    {
     "name": "stdout",
     "output_type": "stream",
     "text": [
      "\n"
     ]
    },
    {
     "name": "stderr",
     "output_type": "stream",
     "text": [
      "INFO:gurobipy:\n"
     ]
    },
    {
     "name": "stdout",
     "output_type": "stream",
     "text": [
      "     0     0    0.31133    0   10          -    0.31133      -     -    0s\n"
     ]
    },
    {
     "name": "stderr",
     "output_type": "stream",
     "text": [
      "INFO:gurobipy:     0     0    0.31133    0   10          -    0.31133      -     -    0s\n"
     ]
    },
    {
     "name": "stdout",
     "output_type": "stream",
     "text": [
      "     0     0    0.31133    0   10          -    0.31133      -     -    0s\n"
     ]
    },
    {
     "name": "stderr",
     "output_type": "stream",
     "text": [
      "INFO:gurobipy:     0     0    0.31133    0   10          -    0.31133      -     -    0s\n"
     ]
    },
    {
     "name": "stdout",
     "output_type": "stream",
     "text": [
      "     0     0    0.31133    0   10          -    0.31133      -     -    0s\n"
     ]
    },
    {
     "name": "stderr",
     "output_type": "stream",
     "text": [
      "INFO:gurobipy:     0     0    0.31133    0   10          -    0.31133      -     -    0s\n"
     ]
    },
    {
     "name": "stdout",
     "output_type": "stream",
     "text": [
      "     0     0    0.31133    0   10          -    0.31133      -     -    0s\n"
     ]
    },
    {
     "name": "stderr",
     "output_type": "stream",
     "text": [
      "INFO:gurobipy:     0     0    0.31133    0   10          -    0.31133      -     -    0s\n"
     ]
    },
    {
     "name": "stdout",
     "output_type": "stream",
     "text": [
      "     0     0    0.31133    0   10          -    0.31133      -     -    0s\n"
     ]
    },
    {
     "name": "stderr",
     "output_type": "stream",
     "text": [
      "INFO:gurobipy:     0     0    0.31133    0   10          -    0.31133      -     -    0s\n"
     ]
    },
    {
     "name": "stdout",
     "output_type": "stream",
     "text": [
      "H    0     0                       6.4416838    0.31133  95.2%     -    0s\n"
     ]
    },
    {
     "name": "stderr",
     "output_type": "stream",
     "text": [
      "INFO:gurobipy:H    0     0                       6.4416838    0.31133  95.2%     -    0s\n"
     ]
    },
    {
     "name": "stdout",
     "output_type": "stream",
     "text": [
      "     0     0    0.31133    0   10    6.44168    0.31133  95.2%     -    0s\n"
     ]
    },
    {
     "name": "stderr",
     "output_type": "stream",
     "text": [
      "INFO:gurobipy:     0     0    0.31133    0   10    6.44168    0.31133  95.2%     -    0s\n"
     ]
    },
    {
     "name": "stdout",
     "output_type": "stream",
     "text": [
      "     0     0    0.31133    0   10    6.44168    0.31133  95.2%     -    0s\n"
     ]
    },
    {
     "name": "stderr",
     "output_type": "stream",
     "text": [
      "INFO:gurobipy:     0     0    0.31133    0   10    6.44168    0.31133  95.2%     -    0s\n"
     ]
    },
    {
     "name": "stdout",
     "output_type": "stream",
     "text": [
      "H    0     0                       6.3394922    0.31133  95.1%     -    0s\n"
     ]
    },
    {
     "name": "stderr",
     "output_type": "stream",
     "text": [
      "INFO:gurobipy:H    0     0                       6.3394922    0.31133  95.1%     -    0s\n"
     ]
    },
    {
     "name": "stdout",
     "output_type": "stream",
     "text": [
      "H    0     0                       5.9661676    0.32741  94.5%     -    0s\n"
     ]
    },
    {
     "name": "stderr",
     "output_type": "stream",
     "text": [
      "INFO:gurobipy:H    0     0                       5.9661676    0.32741  94.5%     -    0s\n"
     ]
    },
    {
     "name": "stdout",
     "output_type": "stream",
     "text": [
      "H    0     0                       4.7037459    0.32741  93.0%     -    0s\n"
     ]
    },
    {
     "name": "stderr",
     "output_type": "stream",
     "text": [
      "INFO:gurobipy:H    0     0                       4.7037459    0.32741  93.0%     -    0s\n"
     ]
    },
    {
     "name": "stdout",
     "output_type": "stream",
     "text": [
      "H    0     0                       0.4547594    0.32741  28.0%     -    0s\n"
     ]
    },
    {
     "name": "stderr",
     "output_type": "stream",
     "text": [
      "INFO:gurobipy:H    0     0                       0.4547594    0.32741  28.0%     -    0s\n"
     ]
    },
    {
     "name": "stdout",
     "output_type": "stream",
     "text": [
      "     0     2    0.32741    0   10    0.45476    0.32741  28.0%     -    0s\n"
     ]
    },
    {
     "name": "stderr",
     "output_type": "stream",
     "text": [
      "INFO:gurobipy:     0     2    0.32741    0   10    0.45476    0.32741  28.0%     -    0s\n"
     ]
    },
    {
     "name": "stdout",
     "output_type": "stream",
     "text": [
      "H  125    38                       0.4547594    0.34221  24.7%  11.7    0s\n"
     ]
    },
    {
     "name": "stderr",
     "output_type": "stream",
     "text": [
      "INFO:gurobipy:H  125    38                       0.4547594    0.34221  24.7%  11.7    0s\n"
     ]
    },
    {
     "name": "stdout",
     "output_type": "stream",
     "text": [
      "H 1029   198                       0.4547591    0.38583  15.2%   7.4    2s\n"
     ]
    },
    {
     "name": "stderr",
     "output_type": "stream",
     "text": [
      "INFO:gurobipy:H 1029   198                       0.4547591    0.38583  15.2%   7.4    2s\n"
     ]
    },
    {
     "name": "stdout",
     "output_type": "stream",
     "text": [
      "* 7045    10              51       0.4547591    0.45451  0.05%   6.2    4s\n"
     ]
    },
    {
     "name": "stderr",
     "output_type": "stream",
     "text": [
      "INFO:gurobipy:* 7045    10              51       0.4547591    0.45451  0.05%   6.2    4s\n"
     ]
    },
    {
     "name": "stdout",
     "output_type": "stream",
     "text": [
      "* 7096    10              63       0.4547591    0.45459  0.04%   6.2    4s\n"
     ]
    },
    {
     "name": "stderr",
     "output_type": "stream",
     "text": [
      "INFO:gurobipy:* 7096    10              63       0.4547591    0.45459  0.04%   6.2    4s\n"
     ]
    },
    {
     "name": "stdout",
     "output_type": "stream",
     "text": [
      "* 7097    10              63       0.4547591    0.45459  0.04%   6.2    4s\n"
     ]
    },
    {
     "name": "stderr",
     "output_type": "stream",
     "text": [
      "INFO:gurobipy:* 7097    10              63       0.4547591    0.45459  0.04%   6.2    4s\n"
     ]
    },
    {
     "name": "stdout",
     "output_type": "stream",
     "text": [
      "* 7100    10              63       0.4547590    0.45459  0.04%   6.2    4s\n"
     ]
    },
    {
     "name": "stderr",
     "output_type": "stream",
     "text": [
      "INFO:gurobipy:* 7100    10              63       0.4547590    0.45459  0.04%   6.2    4s\n"
     ]
    },
    {
     "name": "stdout",
     "output_type": "stream",
     "text": [
      "* 7101    10              63       0.4547590    0.45459  0.04%   6.2    4s\n"
     ]
    },
    {
     "name": "stderr",
     "output_type": "stream",
     "text": [
      "INFO:gurobipy:* 7101    10              63       0.4547590    0.45459  0.04%   6.2    4s\n"
     ]
    },
    {
     "name": "stdout",
     "output_type": "stream",
     "text": [
      "* 7104    10              63       0.4547590    0.45459  0.04%   6.1    4s\n"
     ]
    },
    {
     "name": "stderr",
     "output_type": "stream",
     "text": [
      "INFO:gurobipy:* 7104    10              63       0.4547590    0.45459  0.04%   6.1    4s\n"
     ]
    },
    {
     "name": "stdout",
     "output_type": "stream",
     "text": [
      "\n"
     ]
    },
    {
     "name": "stderr",
     "output_type": "stream",
     "text": [
      "INFO:gurobipy:\n"
     ]
    },
    {
     "name": "stdout",
     "output_type": "stream",
     "text": [
      "Explored 7115 nodes (43789 simplex iterations) in 5.00 seconds (9.70 work units)\n"
     ]
    },
    {
     "name": "stderr",
     "output_type": "stream",
     "text": [
      "INFO:gurobipy:Explored 7115 nodes (43789 simplex iterations) in 5.00 seconds (9.70 work units)\n"
     ]
    },
    {
     "name": "stdout",
     "output_type": "stream",
     "text": [
      "Thread count was 8 (of 8 available processors)\n"
     ]
    },
    {
     "name": "stderr",
     "output_type": "stream",
     "text": [
      "INFO:gurobipy:Thread count was 8 (of 8 available processors)\n"
     ]
    },
    {
     "name": "stdout",
     "output_type": "stream",
     "text": [
      "\n"
     ]
    },
    {
     "name": "stderr",
     "output_type": "stream",
     "text": [
      "INFO:gurobipy:\n"
     ]
    },
    {
     "name": "stdout",
     "output_type": "stream",
     "text": [
      "Solution count 6: 0.454759 0.454759 4.70375 ... 6.44168\n"
     ]
    },
    {
     "name": "stderr",
     "output_type": "stream",
     "text": [
      "INFO:gurobipy:Solution count 6: 0.454759 0.454759 4.70375 ... 6.44168\n"
     ]
    },
    {
     "name": "stdout",
     "output_type": "stream",
     "text": [
      "\n"
     ]
    },
    {
     "name": "stderr",
     "output_type": "stream",
     "text": [
      "INFO:gurobipy:\n"
     ]
    },
    {
     "name": "stdout",
     "output_type": "stream",
     "text": [
      "Optimal solution found (tolerance 1.00e-04)\n"
     ]
    },
    {
     "name": "stderr",
     "output_type": "stream",
     "text": [
      "INFO:gurobipy:Optimal solution found (tolerance 1.00e-04)\n"
     ]
    },
    {
     "name": "stdout",
     "output_type": "stream",
     "text": [
      "Warning: max constraint violation (1.3813e-06) exceeds tolerance\n"
     ]
    },
    {
     "name": "stderr",
     "output_type": "stream",
     "text": [
      "INFO:gurobipy:Warning: max constraint violation (1.3813e-06) exceeds tolerance\n"
     ]
    },
    {
     "name": "stdout",
     "output_type": "stream",
     "text": [
      "Best objective 4.547589537878e-01, best bound 4.547559499087e-01, gap 0.0007%\n"
     ]
    },
    {
     "name": "stderr",
     "output_type": "stream",
     "text": [
      "INFO:gurobipy:Best objective 4.547589537878e-01, best bound 4.547559499087e-01, gap 0.0007%\n"
     ]
    },
    {
     "name": "stdout",
     "output_type": "stream",
     "text": [
      "[ 0.46635421  0.77617275  0.12182746 -0.39398945]\n"
     ]
    }
   ],
   "source": [
    "v_ = qcqp_solver_min(J_X_diff_sym_ssm)"
   ]
  },
  {
   "cell_type": "code",
   "execution_count": 12,
   "metadata": {},
   "outputs": [
    {
     "data": {
      "text/plain": [
       "0.45475895378779196"
      ]
     },
     "execution_count": 12,
     "metadata": {},
     "output_type": "execute_result"
    }
   ],
   "source": [
    "v_"
   ]
  },
  {
   "cell_type": "code",
   "execution_count": 38,
   "metadata": {},
   "outputs": [
    {
     "data": {
      "text/plain": [
       "0.04726713936165283"
      ]
     },
     "execution_count": 38,
     "metadata": {},
     "output_type": "execute_result"
    }
   ],
   "source": [
    "max_diff(v_, J_X_diff_sym_ssm)"
   ]
  },
  {
   "cell_type": "code",
   "execution_count": 40,
   "metadata": {},
   "outputs": [
    {
     "name": "stdout",
     "output_type": "stream",
     "text": [
      "U_hat as a linear combination of U:\n",
      "[[-1.4200011   0.27505009  3.56229661 -5.25711842]\n",
      " [ 0.54470156  3.02354867  0.90504464  0.36871176]\n",
      " [ 0.69620081 -2.36359878 -0.86781392  0.01250669]\n",
      " [ 1.83454537 -1.14351909 -3.13365497  3.95427743]]\n"
     ]
    }
   ],
   "source": [
    "print('U_hat as a linear combination of U:')\n",
    "beta_inv = np.linalg.inv(G_hat)@(G.detach().numpy())\n",
    "print(beta_inv)"
   ]
  },
  {
   "cell_type": "code",
   "execution_count": null,
   "metadata": {},
   "outputs": [],
   "source": []
  },
  {
   "cell_type": "code",
   "execution_count": 41,
   "metadata": {},
   "outputs": [],
   "source": [
    "#TRUE\n",
    "\n",
    "J_X = H_X(graph, U, G).detach().numpy()\n",
    "J_X_bar = np.mean(J_X, axis=0)\n",
    "J_X_diff = J_X - J_X_bar\n",
    "J_X_diff_sym = symmetrize(J_X_diff)"
   ]
  },
  {
   "cell_type": "code",
   "execution_count": 42,
   "metadata": {},
   "outputs": [
    {
     "name": "stdout",
     "output_type": "stream",
     "text": [
      "Set parameter NonConvex to value 2\n"
     ]
    },
    {
     "name": "stderr",
     "output_type": "stream",
     "text": [
      "INFO:gurobipy:Set parameter NonConvex to value 2\n"
     ]
    },
    {
     "name": "stdout",
     "output_type": "stream",
     "text": [
      "No feasible solution found.\n"
     ]
    }
   ],
   "source": [
    "G_hat = G_inv_estimator(J_X_diff_sym)"
   ]
  },
  {
   "cell_type": "code",
   "execution_count": 43,
   "metadata": {},
   "outputs": [
    {
     "name": "stdout",
     "output_type": "stream",
     "text": [
      "[0.65241933 0.72795796 0.12740935 0.16790797]\n"
     ]
    }
   ],
   "source": [
    "v = G_hat[:,0]\n",
    "print(v)"
   ]
  },
  {
   "cell_type": "code",
   "execution_count": 16,
   "metadata": {},
   "outputs": [
    {
     "data": {
      "text/plain": [
       "7.113144444126362e-05"
      ]
     },
     "execution_count": 16,
     "metadata": {},
     "output_type": "execute_result"
    }
   ],
   "source": [
    "max_diff(v, J_X_diff_sym)"
   ]
  },
  {
   "cell_type": "code",
   "execution_count": 17,
   "metadata": {},
   "outputs": [
    {
     "name": "stdout",
     "output_type": "stream",
     "text": [
      "U_hat as a linear combination of U:\n",
      "[[-1.15253623e+00 -1.05644272e+00  2.87052661e+00 -1.23933901e+00]\n",
      " [ 6.29497571e-02  1.32837221e+00 -6.84406001e-01 -6.08377818e-05]\n",
      " [ 1.32273701e+00 -2.48184152e+00 -1.62207426e+00 -9.15208858e-05]\n",
      " [ 1.49023328e+00  2.22367884e+00 -7.57495526e-02 -2.99423427e-04]]\n"
     ]
    }
   ],
   "source": [
    "print('U_hat as a linear combination of U:')\n",
    "beta_inv = np.linalg.inv(G_hat)@(G.detach().numpy())\n",
    "print(beta_inv)"
   ]
  },
  {
   "cell_type": "code",
   "execution_count": null,
   "metadata": {},
   "outputs": [],
   "source": []
  },
  {
   "cell_type": "code",
   "execution_count": null,
   "metadata": {},
   "outputs": [],
   "source": []
  },
  {
   "cell_type": "code",
   "execution_count": 102,
   "metadata": {},
   "outputs": [],
   "source": [
    "U = graph.get_samples(10000)\n",
    "X = (G@U.T).T"
   ]
  },
  {
   "cell_type": "code",
   "execution_count": 103,
   "metadata": {},
   "outputs": [
    {
     "data": {
      "text/plain": [
       "torch.Size([10000, 4])"
      ]
     },
     "execution_count": 103,
     "metadata": {},
     "output_type": "execute_result"
    }
   ],
   "source": [
    "X.shape"
   ]
  },
  {
   "cell_type": "code",
   "execution_count": 105,
   "metadata": {},
   "outputs": [
    {
     "name": "stdout",
     "output_type": "stream",
     "text": [
      "1\n",
      "2\n",
      "3\n",
      "4\n",
      "5\n",
      "6\n",
      "7\n",
      "8\n",
      "9\n",
      "10\n"
     ]
    }
   ],
   "source": [
    "# STEIN ESTIMATED\n",
    "J_X_diff_st = torch.zeros(1000, X.shape[1], X.shape[1])\n",
    "\n",
    "for i in range(1,11):\n",
    "    print(i)\n",
    "    X_ = X[0:i*1000]\n",
    "    # print(X_.shape[0])\n",
    "    J_X_st = Stein_hess_mat(X_, eta=0.01).detach().numpy()\n",
    "    J_X_bar_st = np.mean(J_X_st, axis=0)\n",
    "    J_X_diff_st = J_X_diff_st + (J_X_st - J_X_bar_st)[:1000]\n",
    "\n",
    "J_X_diff_st = J_X_diff_st/2\n",
    "\n"
   ]
  },
  {
   "cell_type": "code",
   "execution_count": 106,
   "metadata": {},
   "outputs": [],
   "source": [
    "J_X_diff_st = J_X_diff_st/5"
   ]
  },
  {
   "cell_type": "code",
   "execution_count": 107,
   "metadata": {},
   "outputs": [],
   "source": [
    "J_X_diff_sym_st = symmetrize(J_X_diff_st)"
   ]
  },
  {
   "cell_type": "code",
   "execution_count": 108,
   "metadata": {},
   "outputs": [
    {
     "data": {
      "text/plain": [
       "19.332793777474283"
      ]
     },
     "execution_count": 108,
     "metadata": {},
     "output_type": "execute_result"
    }
   ],
   "source": [
    "# rand_inds = torch.randperm(num_samples)[:1000]\n",
    "max_diff(v, J_X_diff_sym_st)"
   ]
  },
  {
   "cell_type": "code",
   "execution_count": 109,
   "metadata": {},
   "outputs": [
    {
     "data": {
      "text/plain": [
       "array([-0.20935557,  0.11538653,  0.40471604, -0.88258774])"
      ]
     },
     "execution_count": 109,
     "metadata": {},
     "output_type": "execute_result"
    }
   ],
   "source": [
    "v"
   ]
  },
  {
   "cell_type": "code",
   "execution_count": 111,
   "metadata": {},
   "outputs": [
    {
     "name": "stdout",
     "output_type": "stream",
     "text": [
      "Set parameter NonConvex to value 2\n"
     ]
    },
    {
     "name": "stderr",
     "output_type": "stream",
     "text": [
      "INFO:gurobipy:Set parameter NonConvex to value 2\n"
     ]
    },
    {
     "name": "stdout",
     "output_type": "stream",
     "text": [
      "No feasible solution found.\n"
     ]
    },
    {
     "data": {
      "text/plain": [
       "array([0.89682486, 0.3063215 , 0.24575342, 0.2036604 ])"
      ]
     },
     "execution_count": 111,
     "metadata": {},
     "output_type": "execute_result"
    }
   ],
   "source": [
    "G_hat = G_inv_estimator(J_X_diff_sym_st, epsilon=1.57)\n",
    "v_ = G_hat[:,0]\n",
    "v_"
   ]
  },
  {
   "cell_type": "code",
   "execution_count": 112,
   "metadata": {},
   "outputs": [
    {
     "data": {
      "text/plain": [
       "406906.08370336663"
      ]
     },
     "execution_count": 112,
     "metadata": {},
     "output_type": "execute_result"
    }
   ],
   "source": [
    "max_diff(v_, J_X_diff_sym)"
   ]
  },
  {
   "cell_type": "code",
   "execution_count": 84,
   "metadata": {},
   "outputs": [
    {
     "data": {
      "text/plain": [
       "array([-0.20935557,  0.11538653,  0.40471604, -0.88258774])"
      ]
     },
     "execution_count": 84,
     "metadata": {},
     "output_type": "execute_result"
    }
   ],
   "source": [
    "v"
   ]
  },
  {
   "cell_type": "code",
   "execution_count": null,
   "metadata": {},
   "outputs": [],
   "source": []
  },
  {
   "cell_type": "code",
   "execution_count": 64,
   "metadata": {},
   "outputs": [
    {
     "name": "stdout",
     "output_type": "stream",
     "text": [
      "U_hat as a linear combination of U:\n",
      "[[-0.35845185  1.39466326 -0.5155965  -1.3200003 ]\n",
      " [-1.98663887  0.8378178   0.84558341  0.19314762]\n",
      " [-0.18057345  2.02936937  0.92609859  0.03202162]\n",
      " [ 2.69873916 -0.31762816 -1.01813249 -0.25599378]]\n"
     ]
    }
   ],
   "source": [
    "print('U_hat as a linear combination of U:')\n",
    "beta_inv = np.linalg.inv(G_hat)@(G.detach().numpy())\n",
    "print(beta_inv)"
   ]
  },
  {
   "cell_type": "code",
   "execution_count": 65,
   "metadata": {},
   "outputs": [],
   "source": [
    "J_X_diff_ssm = np.zeros((X.shape[0], X.shape[1],X.shape[1]))"
   ]
  },
  {
   "cell_type": "code",
   "execution_count": 76,
   "metadata": {},
   "outputs": [
    {
     "name": "stderr",
     "output_type": "stream",
     "text": [
      "INFO:root:Epoch:     1/    30, val_loss=-225.3302784668\n",
      "INFO:root:Epoch:     2/    30, val_loss=-725.6716168945\n",
      "INFO:root:Epoch:     3/    30, val_loss=-1188.4073027344\n",
      "INFO:root:Epoch:     4/    30, val_loss=-1514.7661214844\n",
      "INFO:root:Epoch:     5/    30, val_loss=-1997.6279339844\n",
      "INFO:root:Epoch:     6/    30, val_loss=-2262.3412783203\n",
      "INFO:root:Epoch:     7/    30, val_loss=-2478.2802730469\n",
      "INFO:root:Epoch:     8/    30, val_loss=-2590.3091273437\n",
      "INFO:root:Epoch:     9/    30, val_loss=-2555.8091453125\n",
      "INFO:root:Epoch:    10/    30, val_loss=-2902.4516777344\n",
      "INFO:root:Epoch:    11/    30, val_loss=-2898.5186941406\n",
      "INFO:root:Epoch:    12/    30, val_loss=-2489.5711589844\n",
      "INFO:root:Epoch:    13/    30, val_loss=-2980.6480972656\n",
      "INFO:root:Epoch:    14/    30, val_loss=-3059.0254339844\n",
      "INFO:root:Epoch:    15/    30, val_loss=-2354.9006699219\n",
      "INFO:root:Epoch:    16/    30, val_loss=-3562.4717738281\n",
      "INFO:root:Epoch:    17/    30, val_loss=-3462.8764539062\n",
      "INFO:root:Epoch:    18/    30, val_loss=-3740.5401976562\n",
      "INFO:root:Epoch:    19/    30, val_loss=-2520.2249617187\n",
      "INFO:root:Epoch:    20/    30, val_loss=-3643.7328070313\n",
      "INFO:root:Epoch:    21/    30, val_loss=-3510.7215636719\n",
      "INFO:root:Epoch:    22/    30, val_loss=-3846.6667195312\n",
      "INFO:root:Epoch:    23/    30, val_loss=-3982.3860398438\n",
      "INFO:root:Epoch:    24/    30, val_loss=-4029.6551882813\n",
      "INFO:root:Epoch:    25/    30, val_loss=-3983.4111585937\n",
      "INFO:root:Epoch:    26/    30, val_loss=-4119.0863117188\n",
      "INFO:root:Epoch:    27/    30, val_loss=-3105.3915843750\n",
      "INFO:root:Epoch:    28/    30, val_loss=-4246.1572953125\n",
      "INFO:root:Epoch:    29/    30, val_loss=-4210.2011132813\n",
      "INFO:root:Epoch:    30/    30, val_loss=-3783.4266558594\n",
      "INFO:root:Epoch:     1/    30, val_loss=-227.0544747070\n",
      "INFO:root:Epoch:     2/    30, val_loss=-721.1128646484\n",
      "INFO:root:Epoch:     3/    30, val_loss=-1208.8371654297\n",
      "INFO:root:Epoch:     4/    30, val_loss=-1566.3214347656\n",
      "INFO:root:Epoch:     5/    30, val_loss=-1519.2445863281\n",
      "INFO:root:Epoch:     6/    30, val_loss=-2203.9360226562\n",
      "INFO:root:Epoch:     7/    30, val_loss=-2587.5177253906\n",
      "INFO:root:Epoch:     8/    30, val_loss=-2628.1423808594\n",
      "INFO:root:Epoch:     9/    30, val_loss=-2716.4135500000\n",
      "INFO:root:Epoch:    10/    30, val_loss=-2626.4291832031\n",
      "INFO:root:Epoch:    11/    30, val_loss=-2940.7914433594\n",
      "INFO:root:Epoch:    12/    30, val_loss=-2981.3583000000\n",
      "INFO:root:Epoch:    13/    30, val_loss=-3274.7420804687\n",
      "INFO:root:Epoch:    14/    30, val_loss=-3045.7822648437\n",
      "INFO:root:Epoch:    15/    30, val_loss=-2433.2622066406\n",
      "INFO:root:Epoch:    16/    30, val_loss=-3382.0311792969\n",
      "INFO:root:Epoch:    17/    30, val_loss=-3220.1450789063\n",
      "INFO:root:Epoch:    18/    30, val_loss=-3592.5626781250\n",
      "INFO:root:Epoch:    19/    30, val_loss=-3620.2575332031\n",
      "INFO:root:Epoch:    20/    30, val_loss=-3589.1959433594\n",
      "INFO:root:Epoch:    21/    30, val_loss=-3780.5052910156\n",
      "INFO:root:Epoch:    22/    30, val_loss=-3435.2415011719\n",
      "INFO:root:Epoch:    23/    30, val_loss=-3404.9153855469\n",
      "INFO:root:Epoch:    24/    30, val_loss=-1665.1795150391\n",
      "INFO:root:Epoch:    25/    30, val_loss=-3982.1273609375\n",
      "INFO:root:Epoch:    26/    30, val_loss=-3806.5317304688\n",
      "INFO:root:Epoch:    27/    30, val_loss=-4214.2936390625\n",
      "INFO:root:Epoch:    28/    30, val_loss=-4280.0411640625\n",
      "INFO:root:Epoch:    29/    30, val_loss=-4050.6375296875\n",
      "INFO:root:Epoch:    30/    30, val_loss=-3729.3931027344\n",
      "INFO:root:Epoch:     1/    30, val_loss=-242.9023573486\n",
      "INFO:root:Epoch:     2/    30, val_loss=-783.9586662109\n",
      "INFO:root:Epoch:     3/    30, val_loss=-1237.1530910156\n",
      "INFO:root:Epoch:     4/    30, val_loss=-1542.9033296875\n",
      "INFO:root:Epoch:     5/    30, val_loss=-1828.8411333984\n",
      "INFO:root:Epoch:     6/    30, val_loss=-2295.5765640625\n",
      "INFO:root:Epoch:     7/    30, val_loss=-2590.1925734375\n",
      "INFO:root:Epoch:     8/    30, val_loss=-2683.9561050781\n",
      "INFO:root:Epoch:     9/    30, val_loss=-2500.9673292969\n",
      "INFO:root:Epoch:    10/    30, val_loss=-3030.4835320312\n",
      "INFO:root:Epoch:    11/    30, val_loss=-2937.0795867187\n",
      "INFO:root:Epoch:    12/    30, val_loss=-3028.3053199219\n",
      "INFO:root:Epoch:    13/    30, val_loss=-3126.5993765625\n",
      "INFO:root:Epoch:    14/    30, val_loss=-3300.0859347656\n",
      "INFO:root:Epoch:    15/    30, val_loss=-3511.7872410156\n",
      "INFO:root:Epoch:    16/    30, val_loss=-3192.2279417969\n",
      "INFO:root:Epoch:    17/    30, val_loss=-3341.2092031250\n",
      "INFO:root:Epoch:    18/    30, val_loss=-3649.2992710938\n",
      "INFO:root:Epoch:    19/    30, val_loss=-3923.1058910156\n",
      "INFO:root:Epoch:    20/    30, val_loss=-3889.1694468750\n",
      "INFO:root:Epoch:    21/    30, val_loss=-3991.3168257812\n",
      "INFO:root:Epoch:    22/    30, val_loss=-3940.4269484375\n",
      "INFO:root:Epoch:    23/    30, val_loss=-3802.6582332031\n",
      "INFO:root:Epoch:    24/    30, val_loss=-4131.1479390625\n",
      "INFO:root:Epoch:    25/    30, val_loss=-3665.0568882812\n",
      "INFO:root:Epoch:    26/    30, val_loss=-3906.1429042969\n",
      "INFO:root:Epoch:    27/    30, val_loss=-4389.5904664063\n",
      "INFO:root:Epoch:    28/    30, val_loss=-4037.3411238281\n",
      "INFO:root:Epoch:    29/    30, val_loss=-3622.7272617188\n",
      "INFO:root:Epoch:    30/    30, val_loss=-4158.3443257812\n",
      "INFO:root:Epoch:     1/    30, val_loss=-230.0778169922\n",
      "INFO:root:Epoch:     2/    30, val_loss=-733.1459956055\n",
      "INFO:root:Epoch:     3/    30, val_loss=-1254.3538267578\n",
      "INFO:root:Epoch:     4/    30, val_loss=-1600.2977265625\n",
      "INFO:root:Epoch:     5/    30, val_loss=-1988.4546433594\n",
      "INFO:root:Epoch:     6/    30, val_loss=-2211.0259359375\n",
      "INFO:root:Epoch:     7/    30, val_loss=-2492.3937109375\n",
      "INFO:root:Epoch:     8/    30, val_loss=-2682.8986898438\n",
      "INFO:root:Epoch:     9/    30, val_loss=-2269.4234808594\n",
      "INFO:root:Epoch:    10/    30, val_loss=-2854.4729351563\n",
      "INFO:root:Epoch:    11/    30, val_loss=-2934.5807863281\n",
      "INFO:root:Epoch:    12/    30, val_loss=-3098.2564648438\n",
      "INFO:root:Epoch:    13/    30, val_loss=-2588.1035421875\n",
      "INFO:root:Epoch:    14/    30, val_loss=-3279.0675089844\n",
      "INFO:root:Epoch:    15/    30, val_loss=-3416.6786554688\n",
      "INFO:root:Epoch:    16/    30, val_loss=-2899.7468609375\n",
      "INFO:root:Epoch:    17/    30, val_loss=-2975.1776382812\n",
      "INFO:root:Epoch:    18/    30, val_loss=-3423.1967726562\n",
      "INFO:root:Epoch:    19/    30, val_loss=-3681.8939589844\n",
      "INFO:root:Epoch:    20/    30, val_loss=-3732.2902574219\n",
      "INFO:root:Epoch:    21/    30, val_loss=-3805.7482582031\n",
      "INFO:root:Epoch:    22/    30, val_loss=-3843.2742121094\n",
      "INFO:root:Epoch:    23/    30, val_loss=-4243.2907468750\n",
      "INFO:root:Epoch:    24/    30, val_loss=-3068.6537394531\n",
      "INFO:root:Epoch:    25/    30, val_loss=-2734.3691906250\n",
      "INFO:root:Epoch:    26/    30, val_loss=-2809.1438554688\n",
      "INFO:root:Epoch:    27/    30, val_loss=-3758.1161726563\n",
      "INFO:root:Epoch:    28/    30, val_loss=-3902.6917613281\n",
      "INFO:root:Epoch:    29/    30, val_loss=-3866.1818226563\n",
      "INFO:root:Epoch:    30/    30, val_loss=-4139.9510164063\n",
      "INFO:root:Epoch:     1/    30, val_loss=-210.4703902588\n",
      "INFO:root:Epoch:     2/    30, val_loss=-714.6654379883\n",
      "INFO:root:Epoch:     3/    30, val_loss=-1192.5448890625\n",
      "INFO:root:Epoch:     4/    30, val_loss=-1583.2139314453\n",
      "INFO:root:Epoch:     5/    30, val_loss=-1960.0956177734\n",
      "INFO:root:Epoch:     6/    30, val_loss=-2090.8724822266\n",
      "INFO:root:Epoch:     7/    30, val_loss=-2464.9118152344\n",
      "INFO:root:Epoch:     8/    30, val_loss=-2645.5447121094\n",
      "INFO:root:Epoch:     9/    30, val_loss=-2843.8315218750\n",
      "INFO:root:Epoch:    10/    30, val_loss=-2675.7944445313\n",
      "INFO:root:Epoch:    11/    30, val_loss=-2445.6447996094\n",
      "INFO:root:Epoch:    12/    30, val_loss=-3098.9457492187\n",
      "INFO:root:Epoch:    13/    30, val_loss=-2492.0602867187\n",
      "INFO:root:Epoch:    14/    30, val_loss=-3193.2746820312\n",
      "INFO:root:Epoch:    15/    30, val_loss=-3049.7429765625\n",
      "INFO:root:Epoch:    16/    30, val_loss=-2986.1812773438\n",
      "INFO:root:Epoch:    17/    30, val_loss=-3168.6983339844\n",
      "INFO:root:Epoch:    18/    30, val_loss=-3449.7626406250\n",
      "INFO:root:Epoch:    19/    30, val_loss=-3696.4313605469\n",
      "INFO:root:Epoch:    20/    30, val_loss=-3801.2570429687\n",
      "INFO:root:Epoch:    21/    30, val_loss=-3735.4441222656\n",
      "INFO:root:Epoch:    22/    30, val_loss=-3877.1850937500\n",
      "INFO:root:Epoch:    23/    30, val_loss=-3945.4470335937\n",
      "INFO:root:Epoch:    24/    30, val_loss=-3792.5021910156\n",
      "INFO:root:Epoch:    25/    30, val_loss=-3628.8355152344\n",
      "INFO:root:Epoch:    26/    30, val_loss=-4144.2254765625\n",
      "INFO:root:Epoch:    27/    30, val_loss=-3688.1555375000\n",
      "INFO:root:Epoch:    28/    30, val_loss=-4198.2225714844\n",
      "INFO:root:Epoch:    29/    30, val_loss=-3808.3698777344\n",
      "INFO:root:Epoch:    30/    30, val_loss=-4109.1946796875\n"
     ]
    }
   ],
   "source": [
    "# SSM ESTIMATED\n",
    "for _ in range(5):\n",
    "    J_X_ssm = ssm_hess(X, X_tr, score_est_steps=30).detach().numpy()\n",
    "    J_X_bar_ssm = np.mean(J_X_ssm, axis=0)\n",
    "    J_X_diff_ssm += (J_X_ssm - J_X_bar_ssm)\n",
    "\n",
    "    # J_X_diff_sym_ssm += symmetrize(J_X_diff_ssm)"
   ]
  },
  {
   "cell_type": "code",
   "execution_count": 77,
   "metadata": {},
   "outputs": [],
   "source": [
    "J_X_diff_sym_ssm = symmetrize(J_X_diff_ssm/5)"
   ]
  },
  {
   "cell_type": "code",
   "execution_count": 78,
   "metadata": {},
   "outputs": [
    {
     "data": {
      "text/plain": [
       "0.21744586263732568"
      ]
     },
     "execution_count": 78,
     "metadata": {},
     "output_type": "execute_result"
    }
   ],
   "source": [
    "max_diff(v, J_X_diff_sym_ssm/5)"
   ]
  },
  {
   "cell_type": "code",
   "execution_count": 79,
   "metadata": {},
   "outputs": [
    {
     "name": "stdout",
     "output_type": "stream",
     "text": [
      "Set parameter NonConvex to value 2\n"
     ]
    },
    {
     "name": "stderr",
     "output_type": "stream",
     "text": [
      "INFO:gurobipy:Set parameter NonConvex to value 2\n"
     ]
    },
    {
     "name": "stdout",
     "output_type": "stream",
     "text": [
      "Optimal solution found:\n",
      "[-0.80209939  0.43394394 -0.29284422 -0.06817507]\n",
      "\n",
      "Optimal solution found:\n",
      "[ 0.42719387  0.8759021   0.13062888 -0.01193176]\n",
      "\n",
      "No feasible solution found.\n"
     ]
    }
   ],
   "source": [
    "G_hat = G_inv_estimator(J_X_diff_sym_ssm/5, 0.18)"
   ]
  },
  {
   "cell_type": "code",
   "execution_count": 80,
   "metadata": {},
   "outputs": [
    {
     "data": {
      "text/plain": [
       "array([[-0.80209939,  0.42719387,  0.17350662,  0.95034755],\n",
       "       [ 0.43394394,  0.8759021 ,  0.48979064,  0.03336553],\n",
       "       [-0.29284422,  0.13062888,  0.37610426,  0.27173637],\n",
       "       [-0.06817507, -0.01193176,  0.76716763,  0.14793789]])"
      ]
     },
     "execution_count": 80,
     "metadata": {},
     "output_type": "execute_result"
    }
   ],
   "source": [
    "G_hat"
   ]
  },
  {
   "cell_type": "code",
   "execution_count": 83,
   "metadata": {},
   "outputs": [
    {
     "name": "stdout",
     "output_type": "stream",
     "text": [
      "6.854006526387458\n"
     ]
    }
   ],
   "source": [
    "v1 = G_hat[:,0]\n",
    "v2 = G_hat[:,1]\n",
    "print(max_diff(v1, J_X_diff_sym/5))"
   ]
  },
  {
   "cell_type": "code",
   "execution_count": 84,
   "metadata": {},
   "outputs": [
    {
     "name": "stdout",
     "output_type": "stream",
     "text": [
      "U_hat as a linear combination of U:\n",
      "[[-1.58731945 -5.01336609 -5.11486193 -4.63391149]\n",
      " [ 0.19187401  4.1117447   2.06230402  0.95572377]\n",
      " [ 0.02036369  1.41819979  1.33514275  0.97095185]\n",
      " [-0.01385698 -5.91418291 -5.25537113 -4.03974609]]\n"
     ]
    }
   ],
   "source": [
    "print('U_hat as a linear combination of U:')\n",
    "beta_inv = np.linalg.inv(G_hat)@(G.detach().numpy())\n",
    "print(beta_inv)"
   ]
  },
  {
   "cell_type": "markdown",
   "metadata": {},
   "source": []
  }
 ],
 "metadata": {
  "kernelspec": {
   "display_name": "causal",
   "language": "python",
   "name": "python3"
  },
  "language_info": {
   "codemirror_mode": {
    "name": "ipython",
    "version": 3
   },
   "file_extension": ".py",
   "mimetype": "text/x-python",
   "name": "python",
   "nbconvert_exporter": "python",
   "pygments_lexer": "ipython3",
   "version": "3.12.2"
  }
 },
 "nbformat": 4,
 "nbformat_minor": 2
}
