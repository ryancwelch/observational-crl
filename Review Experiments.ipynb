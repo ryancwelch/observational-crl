{
 "cells": [
  {
   "cell_type": "code",
   "execution_count": 6,
   "metadata": {},
   "outputs": [],
   "source": [
    "from generate_samples import SyntheticDAG\n",
    "import torch\n",
    "import numpy as np\n",
    "import pandas as pd\n",
    "import time\n",
    "import csv\n",
    "import gc\n",
    "from stein import Stein_hess_mat\n",
    "from scipy.spatial.distance import pdist, squareform\n",
    "from fast_stein import *\n",
    "import matplotlib.pyplot as plt\n",
    "from sklearn.preprocessing import PolynomialFeatures\n",
    "from sklearn.linear_model import LinearRegression\n",
    "from causal_peeler_e import *\n"
   ]
  },
  {
   "cell_type": "code",
   "execution_count": 2,
   "metadata": {},
   "outputs": [],
   "source": [
    "def sample_full_rank_matrix(n=3, lower=-10, upper=10):\n",
    "    while True:\n",
    "        matrix = torch.FloatTensor(n, n).uniform_(lower, upper)\n",
    "        matrix.requires_grad_(True)\n",
    "        matrix.retain_grad()\n",
    "        if torch.det(matrix).item() != 0:\n",
    "            return matrix\n"
   ]
  },
  {
   "cell_type": "code",
   "execution_count": 3,
   "metadata": {},
   "outputs": [],
   "source": [
    "def noise_estimation(id_layers, layers):\n",
    "    noise_estimates = np.zeros_like(id_layers)\n",
    "    noise_estimates[:,0] = id_layers[:,0]\n",
    "    upstream=[0]\n",
    "    for layer in layers[1:]:\n",
    "        for i in layer:\n",
    "            degree = 2  # Degree of the polynomial features\n",
    "            poly_features = PolynomialFeatures(degree=degree)\n",
    "            X_poly = poly_features.fit_transform(id_layers[:,upstream])\n",
    "            model = LinearRegression()\n",
    "            model.fit(X_poly, id_layers[:,i])\n",
    "            noise_estimates[:,i] = id_layers[:,i] - model.predict(X_poly)\n",
    "        upstream+=layer\n",
    "    return noise_estimates"
   ]
  },
  {
   "cell_type": "code",
   "execution_count": 4,
   "metadata": {},
   "outputs": [],
   "source": [
    "def mac(noises, noises_estimates):\n",
    "    correlation_coeffs = []\n",
    "    for col in range(noises.shape[1]):\n",
    "        correlation_matrix = np.corrcoef(noises[:, col], noises_estimates[:, col])\n",
    "        # print(correlation_matrix)\n",
    "        correlation_coeff = correlation_matrix[0, 1]\n",
    "        correlation_coeffs.append(abs(correlation_coeff))\n",
    "    return np.mean(correlation_coeffs)"
   ]
  },
  {
   "cell_type": "code",
   "execution_count": 5,
   "metadata": {},
   "outputs": [],
   "source": [
    "eta_G=0.10911070444147038\n",
    "eta_H=0.9033964848783047\n",
    "layers = [[0], [1], [2], [3]]\n",
    "DAG_type = 'line'\n",
    "num_latent = 4\n",
    "num_samples = 1000000\n",
    "lower_G = -1 #min possibel value in G or G_hat\n",
    "upper_G = 1 #max possible value in G or G_hat\n",
    "G = sample_full_rank_matrix(num_latent, lower_G, upper_G)+torch.eye(num_latent)"
   ]
  },
  {
   "cell_type": "code",
   "execution_count": 27,
   "metadata": {},
   "outputs": [],
   "source": [
    "graph = SyntheticDAG(num_latent, DAG_type)"
   ]
  },
  {
   "cell_type": "code",
   "execution_count": 28,
   "metadata": {},
   "outputs": [],
   "source": [
    "U,X,noises = graph.sample_scaled(G, num_samples)\n",
    "X = X.detach()"
   ]
  },
  {
   "cell_type": "code",
   "execution_count": 30,
   "metadata": {},
   "outputs": [],
   "source": [
    "selected_indices = torch.randperm(X.size(0))[:5000]\n",
    "X_tr = X[selected_indices]"
   ]
  },
  {
   "cell_type": "code",
   "execution_count": 33,
   "metadata": {},
   "outputs": [
    {
     "name": "stdout",
     "output_type": "stream",
     "text": [
      "Starting...\n",
      "-----------------------------------------------------------\n",
      "Removing Layer 1.\n",
      "-----------------------------------------------------------\n",
      "Calculating Jacobian Estimates...\n"
     ]
    }
   ],
   "source": [
    "id_layers = identify_e(X, X_tr, estimator='ssm')\n",
    "noise_estimates = noise_estimation(id_layers, layers)"
   ]
  },
  {
   "cell_type": "code",
   "execution_count": 1,
   "metadata": {},
   "outputs": [
    {
     "ename": "NameError",
     "evalue": "name 'low_rank_s2' is not defined",
     "output_type": "error",
     "traceback": [
      "\u001b[0;31m---------------------------------------------------------------------------\u001b[0m",
      "\u001b[0;31mNameError\u001b[0m                                 Traceback (most recent call last)",
      "Cell \u001b[0;32mIn[1], line 1\u001b[0m\n\u001b[0;32m----> 1\u001b[0m model \u001b[38;5;241m=\u001b[39m \u001b[43mlow_rank_s2\u001b[49m()\n",
      "\u001b[0;31mNameError\u001b[0m: name 'low_rank_s2' is not defined"
     ]
    }
   ],
   "source": [
    "model = low_rank_s2()"
   ]
  },
  {
   "cell_type": "code",
   "execution_count": null,
   "metadata": {},
   "outputs": [],
   "source": []
  },
  {
   "cell_type": "code",
   "execution_count": 34,
   "metadata": {},
   "outputs": [],
   "source": [
    "def heuristic_kernel_width(X):\n",
    "    X_diff = X.unsqueeze(1)-X\n",
    "    D = torch.norm(X_diff, dim=2, p=2)\n",
    "    s = D.flatten().median()\n",
    "    return s\n",
    "\n",
    "def heuristic_kernel_width_gpu(X, batch_size=50000):\n",
    "    device = 'cuda:1' if torch.cuda.is_available() else 'cpu'\n",
    "    X = X.to(device)\n",
    "\n",
    "    n = X.size(0)\n",
    "    distances = []\n",
    "\n",
    "    # Process in smaller batches to avoid out-of-memory errors\n",
    "    for i in range(0, n, batch_size):\n",
    "        end_i = min(i + batch_size, n)\n",
    "        for j in range(0, n, batch_size):\n",
    "            end_j = min(j + batch_size, n)\n",
    "            with torch.no_grad():\n",
    "                D_batch = torch.cdist(X[i:end_i], X[j:end_j], p=2)\n",
    "                distances.append(D_batch.cpu().flatten())  # Move to CPU and flatten\n",
    "                del D_batch  # Ensure memory is freed immediately\n",
    "                torch.cuda.empty_cache()  # Clear the cache to free memory\n",
    "\n",
    "    # Concatenate all distances on the CPU\n",
    "    distances = torch.cat(distances)\n",
    "    s = distances.median().item()  # Compute the median\n",
    "    return s\n",
    "\n",
    "def heuristic_kernel_width_cpu(X):\n",
    "    # Move X to CPU for scipy operations\n",
    "    X_cpu = X.cpu().numpy()\n",
    "    \n",
    "    # Using scipy to compute pairwise distances efficiently\n",
    "    D = pdist(X_cpu, 'euclidean')\n",
    "    s = np.median(D)\n",
    "    \n",
    "    return torch.tensor(s, dtype=torch.float32)"
   ]
  },
  {
   "cell_type": "code",
   "execution_count": 35,
   "metadata": {},
   "outputs": [
    {
     "data": {
      "text/plain": [
       "tensor(0.6945)"
      ]
     },
     "execution_count": 35,
     "metadata": {},
     "output_type": "execute_result"
    }
   ],
   "source": [
    "torch.median(torch.cdist(X, X, p=2).flatten())"
   ]
  },
  {
   "cell_type": "code",
   "execution_count": 41,
   "metadata": {},
   "outputs": [
    {
     "name": "stdout",
     "output_type": "stream",
     "text": [
      "tensor(0.5864)\n",
      "0.5863832831382751\n",
      "tensor(0.5865)\n",
      "tensor(0.5864)\n"
     ]
    }
   ],
   "source": [
    "U,X,noises = graph.sample_scaled(G, 5000)\n",
    "X = X.detach()\n",
    "\n",
    "print(heuristic_kernel_width(X))\n",
    "print(heuristic_kernel_width_gpu(X))\n",
    "print(heuristic_kernel_width_cpu(X))\n",
    "print(torch.median(torch.cdist(X, X, p=2).flatten()))"
   ]
  },
  {
   "cell_type": "code",
   "execution_count": 42,
   "metadata": {},
   "outputs": [],
   "source": [
    "n,d = X.shape\n",
    "s = heuristic_kernel_width(X.detach())\n",
    "X_diff = X.unsqueeze(1)-X\n",
    "start = time.time()\n",
    "# K = torch.exp(-torch.norm(X_diff, dim=2, p=2)**2 / (2 * s**2)) /s # /s ?\n",
    "K = torch.exp(-torch.cdist(X, X, p=2)**2 / (2 * s**2)) /s\n",
    "nablaK = -torch.einsum(\"kij,ik->kj\", X_diff, K) / s**2"
   ]
  },
  {
   "cell_type": "code",
   "execution_count": 45,
   "metadata": {},
   "outputs": [
    {
     "data": {
      "text/plain": [
       "tensor([[ 0.3155,  0.2027,  0.3047,  0.1095],\n",
       "        [-0.0519,  0.0184,  0.0121,  0.0750],\n",
       "        [-0.1267, -0.1346, -0.0487,  0.2934],\n",
       "        ...,\n",
       "        [-0.0191,  0.0010, -0.0220, -0.0505],\n",
       "        [ 0.0041,  0.0119,  0.0049, -0.0364],\n",
       "        [-0.0052,  0.0238, -0.0092, -0.0515]])"
      ]
     },
     "execution_count": 45,
     "metadata": {},
     "output_type": "execute_result"
    }
   ],
   "source": [
    "G = torch.matmul(torch.inverse(K + eta_G * torch.eye(n)), nablaK)\n",
    "G_ = torch.linalg.solve(K + eta_G * torch.eye(n), nablaK)\n",
    "\n",
    "G-G_"
   ]
  },
  {
   "cell_type": "code",
   "execution_count": null,
   "metadata": {},
   "outputs": [],
   "source": []
  },
  {
   "cell_type": "code",
   "execution_count": 18,
   "metadata": {},
   "outputs": [
    {
     "name": "stderr",
     "output_type": "stream",
     "text": [
      "/tmp/ipykernel_1282540/3305954931.py:18: FutureWarning: Series.fillna with 'method' is deprecated and will raise in a future version. Use obj.ffill() or obj.bfill() instead.\n",
      "  smoothed_MAC_mean = smoothed_MAC_mean.fillna(method='bfill').fillna(method='ffill')\n",
      "/tmp/ipykernel_1282540/3305954931.py:19: FutureWarning: Series.fillna with 'method' is deprecated and will raise in a future version. Use obj.ffill() or obj.bfill() instead.\n",
      "  smoothed_upper = smoothed_upper.fillna(method='bfill').fillna(method='ffill')\n",
      "/tmp/ipykernel_1282540/3305954931.py:20: FutureWarning: Series.fillna with 'method' is deprecated and will raise in a future version. Use obj.ffill() or obj.bfill() instead.\n",
      "  smoothed_lower = smoothed_lower.fillna(method='bfill').fillna(method='ffill')\n"
     ]
    },
    {
     "data": {
      "image/png": "[encoded data removed]",
      "text/plain": [
       "<Figure size 1000x800 with 1 Axes>"
      ]
     },
     "metadata": {},
     "output_type": "display_data"
    }
   ],
   "source": [
    "df = pd.read_csv('tests/SER_test.csv')\n",
    "SER = df.iloc[:, 0]\n",
    "MAC_measurements = df.iloc[:, 1:] \n",
    "\n",
    "MAC_mean = MAC_measurements.mean(axis=1)\n",
    "MAC_std = MAC_measurements.std(axis=1)\n",
    "MAC_se = MAC_std / np.sqrt(MAC_measurements.shape[1])\n",
    "\n",
    "# Number of points in the moving average window\n",
    "window_size = 4\n",
    "\n",
    "# Compute the moving averages\n",
    "smoothed_MAC_mean = MAC_mean.rolling(window=window_size, center=True).mean()\n",
    "smoothed_upper = (MAC_mean + MAC_se).rolling(window=window_size, center=True).mean()\n",
    "smoothed_lower = (MAC_mean - MAC_se).rolling(window=window_size, center=True).mean()\n",
    "\n",
    "# Handling NaN values that may appear at the start/end due to the rolling mean\n",
    "smoothed_MAC_mean = smoothed_MAC_mean.fillna(method='bfill').fillna(method='ffill')\n",
    "smoothed_upper = smoothed_upper.fillna(method='bfill').fillna(method='ffill')\n",
    "smoothed_lower = smoothed_lower.fillna(method='bfill').fillna(method='ffill')\n",
    "\n",
    "# Plotting\n",
    "plt.figure(figsize=(10, 8))\n",
    "plt.errorbar(SER, smoothed_MAC_mean, yerr=MAC_se, fmt='o', color='blue', label='MAC vs. SER')\n",
    "# plt.plot(SER, smoothed_MAC_mean, label='Smoothed MAC') #, cmap='PuBu')\n",
    "# plt.fill_between(SER, smoothed_lower, smoothed_upper, color='blue', alpha=0.3, label='Confidence Interval')\n",
    "\n",
    "y_lower, y_upper = plt.ylim()\n",
    "ssm_location = 5.6768695599372725  # the x-coordinate where the line should be drawn\n",
    "plt.axvline(x=ssm_location, color='red', linestyle=':', linewidth=2)\n",
    "y_mid_h = y_lower + 0.75 * (y_upper - y_lower)\n",
    "plt.text(ssm_location, y_mid_h, '  SSM', color='red', verticalalignment='center', horizontalalignment='left', fontsize=25)\n",
    "\n",
    "stein_location = 2.0122194828233173\n",
    "plt.axvline(x=stein_location, color='black', linestyle=':', linewidth=2)\n",
    "y_mid_l = y_lower + 0.25 * (y_upper - y_lower)\n",
    "plt.text(stein_location, y_mid_l, '  STEIN', color='black', verticalalignment='center', horizontalalignment='left', fontsize=25)\n",
    "\n",
    "# plt.title('Smoothed MAC vs SER')\n",
    "plt.xlabel('SER (dB)')\n",
    "plt.ylabel('MAC')\n",
    "plt.grid(False)\n",
    "# plt.legend()\n",
    "\n",
    "plt.show()"
   ]
  },
  {
   "cell_type": "code",
   "execution_count": null,
   "metadata": {},
   "outputs": [],
   "source": []
  }
 ],
 "metadata": {
  "kernelspec": {
   "display_name": "Python 3",
   "language": "python",
   "name": "python3"
  },
  "language_info": {
   "codemirror_mode": {
    "name": "ipython",
    "version": 3
   },
   "file_extension": ".py",
   "mimetype": "text/x-python",
   "name": "python",
   "nbconvert_exporter": "python",
   "pygments_lexer": "ipython3",
   "version": "3.10.14"
  }
 },
 "nbformat": 4,
 "nbformat_minor": 2
}
